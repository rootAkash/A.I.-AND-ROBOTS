{
  "nbformat": 4,
  "nbformat_minor": 0,
  "metadata": {
    "colab": {
      "provenance": [],
      "authorship_tag": "ABX9TyOWTNjUZ4rL7S5UxMe6sEog",
      "include_colab_link": true
    },
    "kernelspec": {
      "name": "python3",
      "display_name": "Python 3"
    },
    "language_info": {
      "name": "python"
    }
  },
  "cells": [
    {
      "cell_type": "markdown",
      "metadata": {
        "id": "view-in-github",
        "colab_type": "text"
      },
      "source": [
        "<a href=\"https://colab.research.google.com/github/rootAkash/A.I.-AND-ROBOTS/blob/master/worldmodels_for_AD_data.ipynb\" target=\"_parent\"><img src=\"https://colab.research.google.com/assets/colab-badge.svg\" alt=\"Open In Colab\"/></a>"
      ]
    },
    {
      "cell_type": "code",
      "metadata": {
        "id": "4MtWBobrbOPI"
      },
      "source": [],
      "execution_count": null,
      "outputs": []
    },
    {
      "cell_type": "code",
      "source": [],
      "metadata": {
        "id": "_Q0NjIfuUoju"
      },
      "execution_count": null,
      "outputs": []
    },
    {
      "cell_type": "code",
      "source": [],
      "metadata": {
        "id": "02gsPjzDUo6j"
      },
      "execution_count": null,
      "outputs": []
    },
    {
      "cell_type": "code",
      "metadata": {
        "id": "QpSPF3fi-xQC",
        "colab": {
          "base_uri": "https://localhost:8080/"
        },
        "outputId": "49e9a286-81b2-4258-df40-438adf9619f9"
      },
      "source": [
        "from google.colab import drive\n",
        "drive.mount('/gdrive')"
      ],
      "execution_count": null,
      "outputs": [
        {
          "output_type": "stream",
          "text": [
            "Mounted at /gdrive\n"
          ],
          "name": "stdout"
        }
      ]
    },
    {
      "cell_type": "code",
      "metadata": {
        "id": "c3i29Xc--tZp",
        "colab": {
          "base_uri": "https://localhost:8080/"
        },
        "outputId": "50e14d0e-820c-44c2-ca05-f263ddd4367f"
      },
      "source": [
        "%cd /gdrive/My Drive"
      ],
      "execution_count": null,
      "outputs": [
        {
          "output_type": "stream",
          "text": [
            "/gdrive/My Drive\n"
          ],
          "name": "stdout"
        }
      ]
    },
    {
      "cell_type": "code",
      "metadata": {
        "id": "KHQ1CDZn-_3y"
      },
      "source": [
        "#for extracting the compressed file , dont run after extracting\n",
        "#!tar -xvf '/gdrive/My Drive/Copy of CARLA_challenge_autopilot.tar.gz' -C '/gdrive/My Drive/'\n"
      ],
      "execution_count": null,
      "outputs": []
    },
    {
      "cell_type": "code",
      "metadata": {
        "id": "GP5lqtDoBJlk",
        "colab": {
          "base_uri": "https://localhost:8080/"
        },
        "outputId": "d3c37237-63e9-4446-d9e5-f561ff51ab4b"
      },
      "source": [
        "%cd /gdrive/MyDrive/Drive/CARLA_challenge_autopilot\n",
        "!ls"
      ],
      "execution_count": null,
      "outputs": [
        {
          "output_type": "stream",
          "text": [
            "/gdrive/MyDrive/Drive/CARLA_challenge_autopilot\n",
            "route_00_04_06_00_33_32  route_26_04_09_11_32_35  route_52_04_06_12_08_06\n",
            "route_01_04_06_00_38_28  route_27_04_08_18_05_04  route_53_04_08_22_03_01\n",
            "route_02_04_06_00_43_36  route_28_04_08_18_21_14  route_54_04_06_12_27_40\n",
            "route_03_04_06_00_48_16  route_29_04_09_11_47_17  route_55_04_08_22_12_04\n",
            "route_04_04_06_00_57_15  route_30_04_06_06_59_30  route_56_04_06_12_46_43\n",
            "route_05_04_06_01_02_59  route_31_04_08_19_10_16  route_57_04_08_22_20_30\n",
            "route_06_04_06_01_09_46  route_32_04_08_19_26_38  route_58_04_06_13_10_46\n",
            "route_07_04_07_22_31_01  route_33_04_06_08_02_37  route_59_04_06_13_26_15\n",
            "route_08_04_06_01_21_41  route_34_04_06_08_18_08  route_60_04_08_22_39_20\n",
            "route_09_04_07_23_07_09  route_35_04_08_19_42_06  route_61_04_06_13_54_28\n",
            "route_10_04_06_01_34_50  route_36_04_08_20_00_21  route_62_04_08_22_52_34\n",
            "route_11_04_08_13_52_45  route_37_04_08_20_25_33  route_63_04_08_23_17_48\n",
            "route_12_04_09_10_05_34  route_38_04_08_20_44_24  route_64_04_08_23_35_55\n",
            "route_13_04_06_02_12_16  route_39_04_06_09_50_43  route_65_04_08_23_55_44\n",
            "route_14_04_06_02_27_29  route_40_04_06_10_00_43  route_66_04_09_00_05_08\n",
            "route_15_04_08_15_53_22  route_41_04_08_21_06_10  route_67_04_06_15_08_35\n",
            "route_16_04_08_16_05_14  route_42_04_06_10_21_41  route_68_04_09_00_17_00\n",
            "route_17_04_09_10_18_43  route_43_04_06_10_33_21  route_69_04_09_00_28_07\n",
            "route_18_04_09_10_33_36  route_44_04_06_10_40_34  route_70_04_09_00_38_16\n",
            "route_19_04_08_16_31_51  route_45_04_08_21_17_39  route_71_04_08_14_50_05\n",
            "route_20_04_08_16_37_51  route_46_04_08_21_27_56  route_72_04_06_15_37_18\n",
            "route_21_04_09_13_30_34  route_47_04_08_21_48_09  route_73_04_08_14_33_42\n",
            "route_22_04_08_17_22_59  route_48_04_06_11_30_00  route_74_04_08_14_12_57\n",
            "route_23_04_09_14_10_35  route_49_04_06_11_43_48  route_75_04_08_13_13_03\n",
            "route_24_04_08_17_39_17  route_50_04_06_11_50_14\n",
            "route_25_04_08_17_42_59  route_51_04_06_11_58_20\n"
          ],
          "name": "stdout"
        }
      ]
    },
    {
      "cell_type": "code",
      "metadata": {
        "id": "wO1fYwHc_GK2",
        "colab": {
          "base_uri": "https://localhost:8080/",
          "height": 488
        },
        "outputId": "21fe6ee9-33e8-4cca-d7ea-e3a9d8af057b"
      },
      "source": [
        "import numpy as np\n",
        "import matplotlib.pyplot as plt\n",
        "from IPython import display as ipythondisplay\n",
        "import numpy as np\n",
        "import matplotlib.pyplot as plt\n",
        "from IPython import display as ipythondisplay\n",
        "import math\n",
        "import os\n",
        "import cv2\n",
        "#!pip install circle-fit\n",
        "#import circle_fit as cf\n",
        "\n",
        "def read_json_better(data_path):\n",
        "  with open(data_path, 'r') as f2:\n",
        "    data = f2.read()  \n",
        "  f2.close()  \n",
        " \n",
        "  data = data[1:-1].split(\",\")\n",
        "  d = []\n",
        "  for p in range(len(data)-1):\n",
        "    d.append(float(data[p].split(\":\")[1]))\n",
        "  #print(\"brake \" , data[len(data)-1].split(\":\")[1])\n",
        "  if data[len(data)-1].split(\":\")[1] == \" True\":\n",
        "    d.append(True)  \n",
        "  else:\n",
        "    d.append(False)\n",
        "  #returns [x,y,theta,speed,target_speed,x_command,y_command,command,steer,throttle,brake]  \n",
        " \n",
        "  return d  \n",
        "def get_max(files):\n",
        "  max = 0\n",
        "  l=0\n",
        "  for f in files:\n",
        "    n = int(f.split(\".\")[0])\n",
        "    \n",
        "    if n>max:\n",
        "      l = len(f.split(\".\")[0])\n",
        "      max=n\n",
        "  return max,l    \n",
        "def get_string(num,l):\n",
        "  n = str(num)\n",
        "  new=\"\"\n",
        "  for i in range(l-len(n)):\n",
        "    new+=\"0\"\n",
        "  new+=n\n",
        "  return new  \n",
        " \n",
        " \n",
        "cmap = {\n",
        "    0: np.array([0, 0, 0], dtype=np.uint8),\n",
        "    1: np.array([0, 127, 180], dtype=np.uint8),\n",
        "    2: np.array([127, 40, 127], dtype=np.uint8),\n",
        "    3: np.array([80, 180, 80], dtype=np.uint8),\n",
        "    4: np.array([255, 127, 127], dtype=np.uint8),\n",
        "    5: np.array([180, 180, 180], dtype=np.uint8),\n",
        "    6: np.array([255, 180, 0], dtype=np.uint8),\n",
        "    7: np.array([255, 255, 0], dtype=np.uint8),\n",
        "    8: np.array([255, 0, 255], dtype=np.uint8),\n",
        "    9: np.array([0, 255, 0,], dtype=np.uint8),\n",
        "    10: np.array([0, 0, 255], dtype=np.uint8),#car\n",
        "    11: np.array([127, 40, 127], dtype=np.uint8),\n",
        "    12: np.array([255, 0, 0], dtype=np.uint8),\n",
        "    -1: np.array([255, 255, 255], dtype=np.uint8)\n",
        "}\n",
        "def map_semseg_colors(ss, cmap,cat=None):\n",
        "    result = np.empty(list(ss.shape[:2])+[3], np.uint8)\n",
        "    for r in range(ss.shape[0]):\n",
        "        for c in range(ss.shape[1]):\n",
        "          if cat is None:\n",
        "            if ss[r, c, 0] <13:\n",
        "              result[r, c] = cmap[ss[r, c, 0]]\n",
        "            else:\n",
        "              result[r, c] = cmap[-1]\n",
        "          else:\n",
        "            if ss[r, c, 0] ==cat:\n",
        "              result[r, c] = cmap[-1]\n",
        "            else:\n",
        "              result[r, c] = cmap[0]  \n",
        "\n",
        " \n",
        "    return result\n",
        " \n",
        "def dist(x1,y1,x2,y2):\n",
        "  dist = ((x1-x2)**2 + (y1-y2)**2)**0.5\n",
        "  if dist < 0.001:\n",
        "    return 0.0\n",
        "  return dist\n",
        " \n",
        " \n",
        "def next_chk_top(top_view,chkx,chky,currx,curry,theta,thickness=-1,chk_theta=None):\n",
        "  #i coord = 4.5 pixel\n",
        "  theta = -theta\n",
        "  #print(chkx,chky,currx,curry,theta)\n",
        "  y = chky - curry\n",
        "  x = chkx - currx\n",
        "  xnew = x*math.cos(theta) - y*math.sin(theta)\n",
        "  ynew = x*math.sin(theta) + y*math.cos(theta)\n",
        "  h = top_view.shape[0]\n",
        "  w = top_view.shape[1]#85,42\n",
        "  pos = [int(xnew*4.5),int(ynew*4.5),None]\n",
        "  Y = h//2-int(xnew*4.5)\n",
        "  X = w//2+int(ynew*4.5)\n",
        "  #top_view = cv2.circle(top_view,(w//2,h//2),4,(0,0,0),-1)\n",
        "  #print(h,w,xnew,ynew,(X,Y))\n",
        "  top_view = cv2.circle(top_view,(X,Y),4,(0,255,255),thickness)\n",
        "  if chk_theta is not None:\n",
        "    chk_theta =-chk_theta\n",
        "    arrowlen = 200#in pixels\n",
        "    del_theta = chk_theta-theta +math.pi/2\n",
        "    end_point = (X+int(arrowlen*math.cos(del_theta)),Y-int(arrowlen*math.sin(del_theta)))\n",
        "    top_view = cv2.arrowedLine(top_view,(X,Y), end_point,(0,0,50), thickness=10) \n",
        "    pos[2]=(del_theta*180/math.pi)%360\n",
        "  return top_view,pos\n",
        " \n",
        "def visualise_check(pos,front,col=(0,255,0)):\n",
        "  #z is assumed to be camera center height and fov = 90 deg\n",
        "  x = pos[1]\n",
        "  y= pos[0]\n",
        "  \n",
        "  fov = 90\n",
        "  w = front.shape[1]\n",
        "  h = front.shape[0]\n",
        "  z = -9\n",
        "  fovy = 90*h/w\n",
        "  fx = (w/2)*math.tan((90-fov/2)*math.pi/180)\n",
        "  fy =  (h/2)*math.tan((90-fovy/2)*math.pi/180)\n",
        "  newx = (abs(x)*fx)/(abs(y)+0.001)\n",
        "  newz = (abs(z)*fy)/(abs(y)+0.001)\n",
        "  yf = h//2\n",
        "  if x<0:\n",
        "    xf = np.clip(int(w/2 - newx),0,w//2)\n",
        "  if x>=0:\n",
        "    xf = np.clip(int(w/2 + newx),w//2,w)\n",
        "  if z>=0:\n",
        "    zf = np.clip(int(h/2 - newz),0,h//2)\n",
        "  if z<0:\n",
        "    zf = np.clip(int(h/2 + newz),h//2,h)\n",
        "  if y<0:\n",
        "    yf = h-1     \n",
        "  front = cv2.circle(front,(xf,yf),int(newz),col,-1)\n",
        "  return front\n",
        "def visualise_way(pos,front,col=(0,255,255),visual=True):\n",
        "  #to convert a point in top view/coordinate/gps wrt to ego into front view\n",
        "  #z is assumed to be camera center height and fov = 90 deg\n",
        "  x = pos[1]\n",
        "  y= pos[0]\n",
        "  \n",
        "  fov = 90\n",
        "  w = front.shape[1]\n",
        "  h = front.shape[0]\n",
        "  z = -9\n",
        "  fovy = 90*h/w\n",
        "  fx = (w/2)*math.tan((90-fov/2)*math.pi/180)\n",
        "  fy =  (h/2)*math.tan((90-fovy/2)*math.pi/180)\n",
        "  newx = (abs(x)*fx)/(abs(y)+0.001)\n",
        "  newz = (abs(z)*fy)/(abs(y)+0.001)\n",
        "  yf = h//2\n",
        "  if x<0:\n",
        "    xf = np.clip(int(w/2 - newx),0,w//2)\n",
        "  if x>=0:\n",
        "    xf = np.clip(int(w/2 + newx),w//2,w)\n",
        "  if z>=0:\n",
        "    zf = np.clip(int(h/2 - newz),0,h//2)\n",
        "  if z<0:\n",
        "    zf = np.clip(int(h/2 + newz),h//2,h-5)\n",
        "  if y<0:\n",
        "    yf = h-1     \n",
        "  if visual:  \n",
        "    front = cv2.circle(front,(xf,zf),5,col,-1)\n",
        "  return front,(xf,zf)\n",
        "def fit_nd_show_circle(top,data):\n",
        "  xc,yc,r,_ = cf.least_squares_circle((data))\n",
        "  h = top.shape[0]\n",
        "  w = top.shape[1]\n",
        "  Y = h//2-int(yc)\n",
        "  X = w//2+int(xc) \n",
        "  top = cv2.circle(top,(X,Y),int(r),(0,0,0),1)\n",
        "  \n",
        "  return top,(xc,yc,r)\n",
        "def fit_lines(image,data,color=(255,255,255), thickness=20):\n",
        "  #data is a list of [(x,y) ] the actual pixel coordinates to be connected by lines\n",
        "  for i in range(len(data)-1):\n",
        "    image = cv2.line(image, data[i],data[i+1], color, thickness)   \n",
        "  return image\n",
        "\n",
        "for f in os.listdir(\"/gdrive/MyDrive/Drive/CARLA_challenge_autopilot\"):\n",
        "  files =os.listdir(\"/gdrive/MyDrive/Drive/CARLA_challenge_autopilot/\"+f+\"/measurements\")\n",
        "  m,n = get_max(files)\n",
        "  print(f,m,n)\n",
        "#/gdrive/MyDrive/world_model/train/future_occupancy\n",
        "#/gdrive/MyDrive/world_model/train/raw_history\n",
        "#/gdrive/MyDrive/world_model/train/waypoints"
      ],
      "execution_count": null,
      "outputs": [
        {
          "output_type": "stream",
          "text": [
            "route_00_04_06_00_33_32 471 4\n",
            "route_01_04_06_00_38_28 460 4\n",
            "route_02_04_06_00_43_36 0 0\n",
            "route_03_04_06_00_48_16 825 4\n",
            "route_04_04_06_00_57_15 462 4\n",
            "route_05_04_06_01_02_59 633 4\n",
            "route_06_04_06_01_09_46 541 4\n",
            "route_08_04_06_01_21_41 472 4\n",
            "route_10_04_06_01_34_50 970 4\n",
            "route_13_04_06_02_12_16 1297 4\n",
            "route_14_04_06_02_27_29 642 4\n",
            "route_30_04_06_06_59_30 855 4\n",
            "route_33_04_06_08_02_37 1172 4\n",
            "route_34_04_06_08_18_08 1066 4\n"
          ],
          "name": "stdout"
        },
        {
          "output_type": "error",
          "ename": "FileNotFoundError",
          "evalue": "ignored",
          "traceback": [
            "\u001b[0;31m---------------------------------------------------------------------------\u001b[0m",
            "\u001b[0;31mFileNotFoundError\u001b[0m                         Traceback (most recent call last)",
            "\u001b[0;32m<ipython-input-5-ee606a38ff4a>\u001b[0m in \u001b[0;36m<module>\u001b[0;34m()\u001b[0m\n\u001b[1;32m    185\u001b[0m \u001b[0;34m\u001b[0m\u001b[0m\n\u001b[1;32m    186\u001b[0m \u001b[0;32mfor\u001b[0m \u001b[0mf\u001b[0m \u001b[0;32min\u001b[0m \u001b[0mos\u001b[0m\u001b[0;34m.\u001b[0m\u001b[0mlistdir\u001b[0m\u001b[0;34m(\u001b[0m\u001b[0;34m\"/gdrive/MyDrive/Drive/CARLA_challenge_autopilot\"\u001b[0m\u001b[0;34m)\u001b[0m\u001b[0;34m:\u001b[0m\u001b[0;34m\u001b[0m\u001b[0;34m\u001b[0m\u001b[0m\n\u001b[0;32m--> 187\u001b[0;31m   \u001b[0mfiles\u001b[0m \u001b[0;34m=\u001b[0m\u001b[0mos\u001b[0m\u001b[0;34m.\u001b[0m\u001b[0mlistdir\u001b[0m\u001b[0;34m(\u001b[0m\u001b[0;34m\"/gdrive/MyDrive/Drive/CARLA_challenge_autopilot/\"\u001b[0m\u001b[0;34m+\u001b[0m\u001b[0mf\u001b[0m\u001b[0;34m+\u001b[0m\u001b[0;34m\"/measurements\"\u001b[0m\u001b[0;34m)\u001b[0m\u001b[0;34m\u001b[0m\u001b[0;34m\u001b[0m\u001b[0m\n\u001b[0m\u001b[1;32m    188\u001b[0m   \u001b[0mm\u001b[0m\u001b[0;34m,\u001b[0m\u001b[0mn\u001b[0m \u001b[0;34m=\u001b[0m \u001b[0mget_max\u001b[0m\u001b[0;34m(\u001b[0m\u001b[0mfiles\u001b[0m\u001b[0;34m)\u001b[0m\u001b[0;34m\u001b[0m\u001b[0;34m\u001b[0m\u001b[0m\n\u001b[1;32m    189\u001b[0m   \u001b[0mprint\u001b[0m\u001b[0;34m(\u001b[0m\u001b[0mf\u001b[0m\u001b[0;34m,\u001b[0m\u001b[0mm\u001b[0m\u001b[0;34m,\u001b[0m\u001b[0mn\u001b[0m\u001b[0;34m)\u001b[0m\u001b[0;34m\u001b[0m\u001b[0;34m\u001b[0m\u001b[0m\n",
            "\u001b[0;31mFileNotFoundError\u001b[0m: [Errno 2] No such file or directory: '/gdrive/MyDrive/Drive/CARLA_challenge_autopilot/route_39_04_06_09_50_43/measurements'"
          ]
        }
      ]
    },
    {
      "cell_type": "code",
      "metadata": {
        "id": "H6GrhTN5dFao"
      },
      "source": [
        "train_routes=[\"route_10_04_06_01_34_50\",\"route_13_04_06_02_12_16\",\"route_14_04_06_02_27_29\",\"route_30_04_06_06_59_30\",\"route_33_04_06_08_02_37\",\"route_34_04_06_08_18_08\",\"route_00_04_06_00_33_32\",\"route_02_04_06_00_43_36\"]\n",
        "test_routes=[\"route_03_04_06_00_48_16\",\"route_04_04_06_00_57_15\",\"route_05_04_06_01_02_59\",\"route_06_04_06_01_09_46\" ]\n",
        "testing = [\"route_03_04_06_00_48_16\"]"
      ],
      "execution_count": null,
      "outputs": []
    },
    {
      "cell_type": "code",
      "metadata": {
        "colab": {
          "base_uri": "https://localhost:8080/",
          "height": 525
        },
        "id": "XVAQ64wsqi_y",
        "outputId": "b12bce35-2336-4733-b73a-d000473cc4f3"
      },
      "source": [
        "look_ahead= 10\n",
        "history =4 #s-n to s-1\n",
        "ctr = 0 \n",
        "currfol = os.listdir(\"/gdrive/MyDrive/world_model/test/waypoints/\")\n",
        "current_ctr = len(currfol) # use it to resume data generation even after getting disconnected\n",
        "print(\"starting from \",current_ctr )\n",
        "for f in test_routes:\n",
        "  files =os.listdir(\"/gdrive/MyDrive/Drive/CARLA_challenge_autopilot/\"+f+\"/measurements\")\n",
        "  m,n = get_max(files)\n",
        "  for i in range(history,m+1-look_ahead):\n",
        "    print(i)\n",
        "    hist_raw =[]\n",
        "    for k in range(i-history,i):\n",
        "      simdata0 = read_json_better(\"/gdrive/MyDrive/Drive/CARLA_challenge_autopilot/\"+f+\"/measurements/\"+get_string(k,n)+\".json\")\n",
        "      top0 =cv2.imread(\"/gdrive/MyDrive/Drive/CARLA_challenge_autopilot/\"+f+\"/topdown/\"+get_string(k,n)+\".png\")\n",
        "      top0 = cv2.cvtColor(top0, cv2.COLOR_BGR2RGB)\n",
        "      hist_raw.append(map_semseg_colors(top0,cmap))\n",
        "    name = get_string(i,n)#current state\n",
        "    jf =\"/gdrive/MyDrive/Drive/CARLA_challenge_autopilot/\"+f+\"/measurements/\"+name+\".json\"\n",
        "    simdata = read_json_better(jf)#[x 0 ,y 1 ,theta(rad) 2 ,speed 3 ,target_speed 4 ,x_command 5 ,y_command 6 ,command 7 ,steer 8 ,throttle 9 ,brake 10 ]\n",
        "    if simdata is None:\n",
        "      print(\"empty\")\n",
        "      break\n",
        "    top =cv2.imread(\"/gdrive/MyDrive/Drive/CARLA_challenge_autopilot/\"+f+\"/topdown/\"+name+\".png\")\n",
        "    top = cv2.cvtColor(top, cv2.COLOR_BGR2RGB)      \n",
        "    hist_raw.append(map_semseg_colors(top,cmap))\n",
        "    occupancy =[]\n",
        "    traj =[]\n",
        "    cars = map_semseg_colors(top,cmap,cat=10)\n",
        "    occupancy.append(cars)\n",
        "    traj.append([0,0,90])\n",
        "    \n",
        "    top_wp=hist_raw[-1].copy()\n",
        "    top_wp,chkpos = next_chk_top(top_wp,simdata[5],simdata[6],simdata[0],simdata[1],simdata[2],thickness=8)# put checkpoint\n",
        "    for j in range(i+1,i+1+look_ahead):\n",
        "      simdata1 = read_json_better(\"/gdrive/MyDrive/Drive/CARLA_challenge_autopilot/\"+f+\"/measurements/\"+get_string(j,n)+\".json\")\n",
        "      top_wp,pos = next_chk_top(top_wp,simdata1[0],simdata1[1],simdata[0],simdata[1],simdata[2],thickness=-1,chk_theta=simdata1[2])\n",
        "      #rgb,points = visualise_way(pos,rgb,(255,255,255),False)#to visualise in front view\n",
        "      #pos = delta Y, delta X wrt to car , where y is front axis and x is perpendicular to front axis in ground plane,origin is center\n",
        "      #points = x,y,(z) wrt to front view of car\n",
        "      traj.append(pos)#y,x,theta\n",
        "      top1 =cv2.imread(\"/gdrive/MyDrive/Drive/CARLA_challenge_autopilot/\"+f+\"/topdown/\"+get_string(j,n)+\".png\")\n",
        "      top1 = cv2.cvtColor(top1, cv2.COLOR_BGR2RGB)\n",
        "      cars1 = map_semseg_colors(top1,cmap,cat=10)\n",
        "      occupancy.append(cars1)\n",
        "    print(traj,len(traj))\n",
        "    img = np.hstack(hist_raw[-2:]+occupancy[:2]+[top_wp])\n",
        "    plt.imshow(img)\n",
        "    hist_raw = np.array(hist_raw)\n",
        "    occupancy = np.array(occupancy)    \n",
        "    traj = np.array(traj)   \n",
        "    print(hist_raw.shape,occupancy.shape,traj.shape)\n",
        "    np.save('/gdrive/MyDrive/world_model/test/future_occupancy/'+str(ctr)+'.npy',occupancy)\n",
        "    np.save('/gdrive/MyDrive/world_model/test/raw_history/'+str(ctr)+'.npy',hist_raw)\n",
        "    np.save('/gdrive/MyDrive/world_model/test/waypoints/'+str(ctr)+'.npy',traj)\n",
        "    ctr+=1\n",
        "\n",
        "     \n",
        "    #distc =dist(simdata[0],simdata[1],simdata[5],simdata[6])\n",
        "    #print(\"next :\",int(simdata[5]),int(simdata[6]),\"distace to next :\",distc,\"| pose :\",int((simdata[2]*180/np.pi)%360),\"| action :\",simdata[7],\"| s t b : \",simdata[8],simdata[9],simdata[10])\n",
        "    ipythondisplay.clear_output(wait=True)\n",
        "    ipythondisplay.display(plt.gcf())\n",
        "\n",
        "print(\"final_ctr\",ctr)    "
      ],
      "execution_count": null,
      "outputs": [
        {
          "output_type": "error",
          "ename": "KeyboardInterrupt",
          "evalue": "ignored",
          "traceback": [
            "\u001b[0;31m---------------------------------------------------------------------------\u001b[0m",
            "\u001b[0;31mKeyboardInterrupt\u001b[0m                         Traceback (most recent call last)",
            "\u001b[0;32m<ipython-input-8-53154ea18c91>\u001b[0m in \u001b[0;36m<module>\u001b[0;34m()\u001b[0m\n\u001b[1;32m     60\u001b[0m     \u001b[0;31m#print(\"next :\",int(simdata[5]),int(simdata[6]),\"distace to next :\",distc,\"| pose :\",int((simdata[2]*180/np.pi)%360),\"| action :\",simdata[7],\"| s t b : \",simdata[8],simdata[9],simdata[10])\u001b[0m\u001b[0;34m\u001b[0m\u001b[0;34m\u001b[0m\u001b[0;34m\u001b[0m\u001b[0m\n\u001b[1;32m     61\u001b[0m     \u001b[0mipythondisplay\u001b[0m\u001b[0;34m.\u001b[0m\u001b[0mclear_output\u001b[0m\u001b[0;34m(\u001b[0m\u001b[0mwait\u001b[0m\u001b[0;34m=\u001b[0m\u001b[0;32mTrue\u001b[0m\u001b[0;34m)\u001b[0m\u001b[0;34m\u001b[0m\u001b[0;34m\u001b[0m\u001b[0m\n\u001b[0;32m---> 62\u001b[0;31m     \u001b[0mipythondisplay\u001b[0m\u001b[0;34m.\u001b[0m\u001b[0mdisplay\u001b[0m\u001b[0;34m(\u001b[0m\u001b[0mplt\u001b[0m\u001b[0;34m.\u001b[0m\u001b[0mgcf\u001b[0m\u001b[0;34m(\u001b[0m\u001b[0;34m)\u001b[0m\u001b[0;34m)\u001b[0m\u001b[0;34m\u001b[0m\u001b[0;34m\u001b[0m\u001b[0m\n\u001b[0m\u001b[1;32m     63\u001b[0m \u001b[0;34m\u001b[0m\u001b[0m\n\u001b[1;32m     64\u001b[0m \u001b[0mprint\u001b[0m\u001b[0;34m(\u001b[0m\u001b[0;34m\"final_ctr\"\u001b[0m\u001b[0;34m,\u001b[0m\u001b[0mctr\u001b[0m\u001b[0;34m)\u001b[0m\u001b[0;34m\u001b[0m\u001b[0;34m\u001b[0m\u001b[0m\n",
            "\u001b[0;32m/usr/local/lib/python3.7/dist-packages/IPython/core/display.py\u001b[0m in \u001b[0;36mdisplay\u001b[0;34m(*objs, **kwargs)\u001b[0m\n\u001b[1;32m    304\u001b[0m             \u001b[0mpublish_display_data\u001b[0m\u001b[0;34m(\u001b[0m\u001b[0mdata\u001b[0m\u001b[0;34m=\u001b[0m\u001b[0mobj\u001b[0m\u001b[0;34m,\u001b[0m \u001b[0mmetadata\u001b[0m\u001b[0;34m=\u001b[0m\u001b[0mmetadata\u001b[0m\u001b[0;34m,\u001b[0m \u001b[0;34m**\u001b[0m\u001b[0mkwargs\u001b[0m\u001b[0;34m)\u001b[0m\u001b[0;34m\u001b[0m\u001b[0;34m\u001b[0m\u001b[0m\n\u001b[1;32m    305\u001b[0m         \u001b[0;32melse\u001b[0m\u001b[0;34m:\u001b[0m\u001b[0;34m\u001b[0m\u001b[0;34m\u001b[0m\u001b[0m\n\u001b[0;32m--> 306\u001b[0;31m             \u001b[0mformat_dict\u001b[0m\u001b[0;34m,\u001b[0m \u001b[0mmd_dict\u001b[0m \u001b[0;34m=\u001b[0m \u001b[0mformat\u001b[0m\u001b[0;34m(\u001b[0m\u001b[0mobj\u001b[0m\u001b[0;34m,\u001b[0m \u001b[0minclude\u001b[0m\u001b[0;34m=\u001b[0m\u001b[0minclude\u001b[0m\u001b[0;34m,\u001b[0m \u001b[0mexclude\u001b[0m\u001b[0;34m=\u001b[0m\u001b[0mexclude\u001b[0m\u001b[0;34m)\u001b[0m\u001b[0;34m\u001b[0m\u001b[0;34m\u001b[0m\u001b[0m\n\u001b[0m\u001b[1;32m    307\u001b[0m             \u001b[0;32mif\u001b[0m \u001b[0;32mnot\u001b[0m \u001b[0mformat_dict\u001b[0m\u001b[0;34m:\u001b[0m\u001b[0;34m\u001b[0m\u001b[0;34m\u001b[0m\u001b[0m\n\u001b[1;32m    308\u001b[0m                 \u001b[0;31m# nothing to display (e.g. _ipython_display_ took over)\u001b[0m\u001b[0;34m\u001b[0m\u001b[0;34m\u001b[0m\u001b[0;34m\u001b[0m\u001b[0m\n",
            "\u001b[0;32m/usr/local/lib/python3.7/dist-packages/IPython/core/formatters.py\u001b[0m in \u001b[0;36mformat\u001b[0;34m(self, obj, include, exclude)\u001b[0m\n\u001b[1;32m    171\u001b[0m             \u001b[0mmd\u001b[0m \u001b[0;34m=\u001b[0m \u001b[0;32mNone\u001b[0m\u001b[0;34m\u001b[0m\u001b[0;34m\u001b[0m\u001b[0m\n\u001b[1;32m    172\u001b[0m             \u001b[0;32mtry\u001b[0m\u001b[0;34m:\u001b[0m\u001b[0;34m\u001b[0m\u001b[0;34m\u001b[0m\u001b[0m\n\u001b[0;32m--> 173\u001b[0;31m                 \u001b[0mdata\u001b[0m \u001b[0;34m=\u001b[0m \u001b[0mformatter\u001b[0m\u001b[0;34m(\u001b[0m\u001b[0mobj\u001b[0m\u001b[0;34m)\u001b[0m\u001b[0;34m\u001b[0m\u001b[0;34m\u001b[0m\u001b[0m\n\u001b[0m\u001b[1;32m    174\u001b[0m             \u001b[0;32mexcept\u001b[0m\u001b[0;34m:\u001b[0m\u001b[0;34m\u001b[0m\u001b[0;34m\u001b[0m\u001b[0m\n\u001b[1;32m    175\u001b[0m                 \u001b[0;31m# FIXME: log the exception\u001b[0m\u001b[0;34m\u001b[0m\u001b[0;34m\u001b[0m\u001b[0;34m\u001b[0m\u001b[0m\n",
            "\u001b[0;32m<decorator-gen-2>\u001b[0m in \u001b[0;36m__call__\u001b[0;34m(self, obj)\u001b[0m\n",
            "\u001b[0;32m/usr/local/lib/python3.7/dist-packages/IPython/core/formatters.py\u001b[0m in \u001b[0;36mcatch_format_error\u001b[0;34m(method, self, *args, **kwargs)\u001b[0m\n\u001b[1;32m    215\u001b[0m     \u001b[0;34m\"\"\"show traceback on failed format call\"\"\"\u001b[0m\u001b[0;34m\u001b[0m\u001b[0;34m\u001b[0m\u001b[0m\n\u001b[1;32m    216\u001b[0m     \u001b[0;32mtry\u001b[0m\u001b[0;34m:\u001b[0m\u001b[0;34m\u001b[0m\u001b[0;34m\u001b[0m\u001b[0m\n\u001b[0;32m--> 217\u001b[0;31m         \u001b[0mr\u001b[0m \u001b[0;34m=\u001b[0m \u001b[0mmethod\u001b[0m\u001b[0;34m(\u001b[0m\u001b[0mself\u001b[0m\u001b[0;34m,\u001b[0m \u001b[0;34m*\u001b[0m\u001b[0margs\u001b[0m\u001b[0;34m,\u001b[0m \u001b[0;34m**\u001b[0m\u001b[0mkwargs\u001b[0m\u001b[0;34m)\u001b[0m\u001b[0;34m\u001b[0m\u001b[0;34m\u001b[0m\u001b[0m\n\u001b[0m\u001b[1;32m    218\u001b[0m     \u001b[0;32mexcept\u001b[0m \u001b[0mNotImplementedError\u001b[0m\u001b[0;34m:\u001b[0m\u001b[0;34m\u001b[0m\u001b[0;34m\u001b[0m\u001b[0m\n\u001b[1;32m    219\u001b[0m         \u001b[0;31m# don't warn on NotImplementedErrors\u001b[0m\u001b[0;34m\u001b[0m\u001b[0;34m\u001b[0m\u001b[0;34m\u001b[0m\u001b[0m\n",
            "\u001b[0;32m/usr/local/lib/python3.7/dist-packages/IPython/core/formatters.py\u001b[0m in \u001b[0;36m__call__\u001b[0;34m(self, obj)\u001b[0m\n\u001b[1;32m    332\u001b[0m                 \u001b[0;32mpass\u001b[0m\u001b[0;34m\u001b[0m\u001b[0;34m\u001b[0m\u001b[0m\n\u001b[1;32m    333\u001b[0m             \u001b[0;32melse\u001b[0m\u001b[0;34m:\u001b[0m\u001b[0;34m\u001b[0m\u001b[0;34m\u001b[0m\u001b[0m\n\u001b[0;32m--> 334\u001b[0;31m                 \u001b[0;32mreturn\u001b[0m \u001b[0mprinter\u001b[0m\u001b[0;34m(\u001b[0m\u001b[0mobj\u001b[0m\u001b[0;34m)\u001b[0m\u001b[0;34m\u001b[0m\u001b[0;34m\u001b[0m\u001b[0m\n\u001b[0m\u001b[1;32m    335\u001b[0m             \u001b[0;31m# Finally look for special method names\u001b[0m\u001b[0;34m\u001b[0m\u001b[0;34m\u001b[0m\u001b[0;34m\u001b[0m\u001b[0m\n\u001b[1;32m    336\u001b[0m             \u001b[0mmethod\u001b[0m \u001b[0;34m=\u001b[0m \u001b[0mget_real_method\u001b[0m\u001b[0;34m(\u001b[0m\u001b[0mobj\u001b[0m\u001b[0;34m,\u001b[0m \u001b[0mself\u001b[0m\u001b[0;34m.\u001b[0m\u001b[0mprint_method\u001b[0m\u001b[0;34m)\u001b[0m\u001b[0;34m\u001b[0m\u001b[0;34m\u001b[0m\u001b[0m\n",
            "\u001b[0;32m/usr/local/lib/python3.7/dist-packages/IPython/core/pylabtools.py\u001b[0m in \u001b[0;36m<lambda>\u001b[0;34m(fig)\u001b[0m\n\u001b[1;32m    239\u001b[0m \u001b[0;34m\u001b[0m\u001b[0m\n\u001b[1;32m    240\u001b[0m     \u001b[0;32mif\u001b[0m \u001b[0;34m'png'\u001b[0m \u001b[0;32min\u001b[0m \u001b[0mformats\u001b[0m\u001b[0;34m:\u001b[0m\u001b[0;34m\u001b[0m\u001b[0;34m\u001b[0m\u001b[0m\n\u001b[0;32m--> 241\u001b[0;31m         \u001b[0mpng_formatter\u001b[0m\u001b[0;34m.\u001b[0m\u001b[0mfor_type\u001b[0m\u001b[0;34m(\u001b[0m\u001b[0mFigure\u001b[0m\u001b[0;34m,\u001b[0m \u001b[0;32mlambda\u001b[0m \u001b[0mfig\u001b[0m\u001b[0;34m:\u001b[0m \u001b[0mprint_figure\u001b[0m\u001b[0;34m(\u001b[0m\u001b[0mfig\u001b[0m\u001b[0;34m,\u001b[0m \u001b[0;34m'png'\u001b[0m\u001b[0;34m,\u001b[0m \u001b[0;34m**\u001b[0m\u001b[0mkwargs\u001b[0m\u001b[0;34m)\u001b[0m\u001b[0;34m)\u001b[0m\u001b[0;34m\u001b[0m\u001b[0;34m\u001b[0m\u001b[0m\n\u001b[0m\u001b[1;32m    242\u001b[0m     \u001b[0;32mif\u001b[0m \u001b[0;34m'retina'\u001b[0m \u001b[0;32min\u001b[0m \u001b[0mformats\u001b[0m \u001b[0;32mor\u001b[0m \u001b[0;34m'png2x'\u001b[0m \u001b[0;32min\u001b[0m \u001b[0mformats\u001b[0m\u001b[0;34m:\u001b[0m\u001b[0;34m\u001b[0m\u001b[0;34m\u001b[0m\u001b[0m\n\u001b[1;32m    243\u001b[0m         \u001b[0mpng_formatter\u001b[0m\u001b[0;34m.\u001b[0m\u001b[0mfor_type\u001b[0m\u001b[0;34m(\u001b[0m\u001b[0mFigure\u001b[0m\u001b[0;34m,\u001b[0m \u001b[0;32mlambda\u001b[0m \u001b[0mfig\u001b[0m\u001b[0;34m:\u001b[0m \u001b[0mretina_figure\u001b[0m\u001b[0;34m(\u001b[0m\u001b[0mfig\u001b[0m\u001b[0;34m,\u001b[0m \u001b[0;34m**\u001b[0m\u001b[0mkwargs\u001b[0m\u001b[0;34m)\u001b[0m\u001b[0;34m)\u001b[0m\u001b[0;34m\u001b[0m\u001b[0;34m\u001b[0m\u001b[0m\n",
            "\u001b[0;32m/usr/local/lib/python3.7/dist-packages/IPython/core/pylabtools.py\u001b[0m in \u001b[0;36mprint_figure\u001b[0;34m(fig, fmt, bbox_inches, **kwargs)\u001b[0m\n\u001b[1;32m    123\u001b[0m \u001b[0;34m\u001b[0m\u001b[0m\n\u001b[1;32m    124\u001b[0m     \u001b[0mbytes_io\u001b[0m \u001b[0;34m=\u001b[0m \u001b[0mBytesIO\u001b[0m\u001b[0;34m(\u001b[0m\u001b[0;34m)\u001b[0m\u001b[0;34m\u001b[0m\u001b[0;34m\u001b[0m\u001b[0m\n\u001b[0;32m--> 125\u001b[0;31m     \u001b[0mfig\u001b[0m\u001b[0;34m.\u001b[0m\u001b[0mcanvas\u001b[0m\u001b[0;34m.\u001b[0m\u001b[0mprint_figure\u001b[0m\u001b[0;34m(\u001b[0m\u001b[0mbytes_io\u001b[0m\u001b[0;34m,\u001b[0m \u001b[0;34m**\u001b[0m\u001b[0mkw\u001b[0m\u001b[0;34m)\u001b[0m\u001b[0;34m\u001b[0m\u001b[0;34m\u001b[0m\u001b[0m\n\u001b[0m\u001b[1;32m    126\u001b[0m     \u001b[0mdata\u001b[0m \u001b[0;34m=\u001b[0m \u001b[0mbytes_io\u001b[0m\u001b[0;34m.\u001b[0m\u001b[0mgetvalue\u001b[0m\u001b[0;34m(\u001b[0m\u001b[0;34m)\u001b[0m\u001b[0;34m\u001b[0m\u001b[0;34m\u001b[0m\u001b[0m\n\u001b[1;32m    127\u001b[0m     \u001b[0;32mif\u001b[0m \u001b[0mfmt\u001b[0m \u001b[0;34m==\u001b[0m \u001b[0;34m'svg'\u001b[0m\u001b[0;34m:\u001b[0m\u001b[0;34m\u001b[0m\u001b[0;34m\u001b[0m\u001b[0m\n",
            "\u001b[0;32m/usr/local/lib/python3.7/dist-packages/matplotlib/backend_bases.py\u001b[0m in \u001b[0;36mprint_figure\u001b[0;34m(self, filename, dpi, facecolor, edgecolor, orientation, format, bbox_inches, **kwargs)\u001b[0m\n\u001b[1;32m   2124\u001b[0m                     \u001b[0morientation\u001b[0m\u001b[0;34m=\u001b[0m\u001b[0morientation\u001b[0m\u001b[0;34m,\u001b[0m\u001b[0;34m\u001b[0m\u001b[0;34m\u001b[0m\u001b[0m\n\u001b[1;32m   2125\u001b[0m                     \u001b[0mbbox_inches_restore\u001b[0m\u001b[0;34m=\u001b[0m\u001b[0m_bbox_inches_restore\u001b[0m\u001b[0;34m,\u001b[0m\u001b[0;34m\u001b[0m\u001b[0;34m\u001b[0m\u001b[0m\n\u001b[0;32m-> 2126\u001b[0;31m                     **kwargs)\n\u001b[0m\u001b[1;32m   2127\u001b[0m             \u001b[0;32mfinally\u001b[0m\u001b[0;34m:\u001b[0m\u001b[0;34m\u001b[0m\u001b[0;34m\u001b[0m\u001b[0m\n\u001b[1;32m   2128\u001b[0m                 \u001b[0;32mif\u001b[0m \u001b[0mbbox_inches\u001b[0m \u001b[0;32mand\u001b[0m \u001b[0mrestore_bbox\u001b[0m\u001b[0;34m:\u001b[0m\u001b[0;34m\u001b[0m\u001b[0;34m\u001b[0m\u001b[0m\n",
            "\u001b[0;32m/usr/local/lib/python3.7/dist-packages/matplotlib/backends/backend_agg.py\u001b[0m in \u001b[0;36mprint_png\u001b[0;34m(self, filename_or_obj, metadata, pil_kwargs, *args, **kwargs)\u001b[0m\n\u001b[1;32m    512\u001b[0m         }\n\u001b[1;32m    513\u001b[0m \u001b[0;34m\u001b[0m\u001b[0m\n\u001b[0;32m--> 514\u001b[0;31m         \u001b[0mFigureCanvasAgg\u001b[0m\u001b[0;34m.\u001b[0m\u001b[0mdraw\u001b[0m\u001b[0;34m(\u001b[0m\u001b[0mself\u001b[0m\u001b[0;34m)\u001b[0m\u001b[0;34m\u001b[0m\u001b[0;34m\u001b[0m\u001b[0m\n\u001b[0m\u001b[1;32m    515\u001b[0m         \u001b[0;32mif\u001b[0m \u001b[0mpil_kwargs\u001b[0m \u001b[0;32mis\u001b[0m \u001b[0;32mnot\u001b[0m \u001b[0;32mNone\u001b[0m\u001b[0;34m:\u001b[0m\u001b[0;34m\u001b[0m\u001b[0;34m\u001b[0m\u001b[0m\n\u001b[1;32m    516\u001b[0m             \u001b[0;32mfrom\u001b[0m \u001b[0mPIL\u001b[0m \u001b[0;32mimport\u001b[0m \u001b[0mImage\u001b[0m\u001b[0;34m\u001b[0m\u001b[0;34m\u001b[0m\u001b[0m\n",
            "\u001b[0;32m/usr/local/lib/python3.7/dist-packages/matplotlib/backends/backend_agg.py\u001b[0m in \u001b[0;36mdraw\u001b[0;34m(self)\u001b[0m\n\u001b[1;32m    391\u001b[0m              (self.toolbar._wait_cursor_for_draw_cm() if self.toolbar\n\u001b[1;32m    392\u001b[0m               else nullcontext()):\n\u001b[0;32m--> 393\u001b[0;31m             \u001b[0mself\u001b[0m\u001b[0;34m.\u001b[0m\u001b[0mfigure\u001b[0m\u001b[0;34m.\u001b[0m\u001b[0mdraw\u001b[0m\u001b[0;34m(\u001b[0m\u001b[0mself\u001b[0m\u001b[0;34m.\u001b[0m\u001b[0mrenderer\u001b[0m\u001b[0;34m)\u001b[0m\u001b[0;34m\u001b[0m\u001b[0;34m\u001b[0m\u001b[0m\n\u001b[0m\u001b[1;32m    394\u001b[0m             \u001b[0;31m# A GUI class may be need to update a window using this draw, so\u001b[0m\u001b[0;34m\u001b[0m\u001b[0;34m\u001b[0m\u001b[0;34m\u001b[0m\u001b[0m\n\u001b[1;32m    395\u001b[0m             \u001b[0;31m# don't forget to call the superclass.\u001b[0m\u001b[0;34m\u001b[0m\u001b[0;34m\u001b[0m\u001b[0;34m\u001b[0m\u001b[0m\n",
            "\u001b[0;32m/usr/local/lib/python3.7/dist-packages/matplotlib/artist.py\u001b[0m in \u001b[0;36mdraw_wrapper\u001b[0;34m(artist, renderer, *args, **kwargs)\u001b[0m\n\u001b[1;32m     36\u001b[0m                 \u001b[0mrenderer\u001b[0m\u001b[0;34m.\u001b[0m\u001b[0mstart_filter\u001b[0m\u001b[0;34m(\u001b[0m\u001b[0;34m)\u001b[0m\u001b[0;34m\u001b[0m\u001b[0;34m\u001b[0m\u001b[0m\n\u001b[1;32m     37\u001b[0m \u001b[0;34m\u001b[0m\u001b[0m\n\u001b[0;32m---> 38\u001b[0;31m             \u001b[0;32mreturn\u001b[0m \u001b[0mdraw\u001b[0m\u001b[0;34m(\u001b[0m\u001b[0martist\u001b[0m\u001b[0;34m,\u001b[0m \u001b[0mrenderer\u001b[0m\u001b[0;34m,\u001b[0m \u001b[0;34m*\u001b[0m\u001b[0margs\u001b[0m\u001b[0;34m,\u001b[0m \u001b[0;34m**\u001b[0m\u001b[0mkwargs\u001b[0m\u001b[0;34m)\u001b[0m\u001b[0;34m\u001b[0m\u001b[0;34m\u001b[0m\u001b[0m\n\u001b[0m\u001b[1;32m     39\u001b[0m         \u001b[0;32mfinally\u001b[0m\u001b[0;34m:\u001b[0m\u001b[0;34m\u001b[0m\u001b[0;34m\u001b[0m\u001b[0m\n\u001b[1;32m     40\u001b[0m             \u001b[0;32mif\u001b[0m \u001b[0martist\u001b[0m\u001b[0;34m.\u001b[0m\u001b[0mget_agg_filter\u001b[0m\u001b[0;34m(\u001b[0m\u001b[0;34m)\u001b[0m \u001b[0;32mis\u001b[0m \u001b[0;32mnot\u001b[0m \u001b[0;32mNone\u001b[0m\u001b[0;34m:\u001b[0m\u001b[0;34m\u001b[0m\u001b[0;34m\u001b[0m\u001b[0m\n",
            "\u001b[0;32m/usr/local/lib/python3.7/dist-packages/matplotlib/figure.py\u001b[0m in \u001b[0;36mdraw\u001b[0;34m(self, renderer)\u001b[0m\n\u001b[1;32m   1734\u001b[0m             \u001b[0mself\u001b[0m\u001b[0;34m.\u001b[0m\u001b[0mpatch\u001b[0m\u001b[0;34m.\u001b[0m\u001b[0mdraw\u001b[0m\u001b[0;34m(\u001b[0m\u001b[0mrenderer\u001b[0m\u001b[0;34m)\u001b[0m\u001b[0;34m\u001b[0m\u001b[0;34m\u001b[0m\u001b[0m\n\u001b[1;32m   1735\u001b[0m             mimage._draw_list_compositing_images(\n\u001b[0;32m-> 1736\u001b[0;31m                 renderer, self, artists, self.suppressComposite)\n\u001b[0m\u001b[1;32m   1737\u001b[0m \u001b[0;34m\u001b[0m\u001b[0m\n\u001b[1;32m   1738\u001b[0m             \u001b[0mrenderer\u001b[0m\u001b[0;34m.\u001b[0m\u001b[0mclose_group\u001b[0m\u001b[0;34m(\u001b[0m\u001b[0;34m'figure'\u001b[0m\u001b[0;34m)\u001b[0m\u001b[0;34m\u001b[0m\u001b[0;34m\u001b[0m\u001b[0m\n",
            "\u001b[0;32m/usr/local/lib/python3.7/dist-packages/matplotlib/image.py\u001b[0m in \u001b[0;36m_draw_list_compositing_images\u001b[0;34m(renderer, parent, artists, suppress_composite)\u001b[0m\n\u001b[1;32m    135\u001b[0m     \u001b[0;32mif\u001b[0m \u001b[0mnot_composite\u001b[0m \u001b[0;32mor\u001b[0m \u001b[0;32mnot\u001b[0m \u001b[0mhas_images\u001b[0m\u001b[0;34m:\u001b[0m\u001b[0;34m\u001b[0m\u001b[0;34m\u001b[0m\u001b[0m\n\u001b[1;32m    136\u001b[0m         \u001b[0;32mfor\u001b[0m \u001b[0ma\u001b[0m \u001b[0;32min\u001b[0m \u001b[0martists\u001b[0m\u001b[0;34m:\u001b[0m\u001b[0;34m\u001b[0m\u001b[0;34m\u001b[0m\u001b[0m\n\u001b[0;32m--> 137\u001b[0;31m             \u001b[0ma\u001b[0m\u001b[0;34m.\u001b[0m\u001b[0mdraw\u001b[0m\u001b[0;34m(\u001b[0m\u001b[0mrenderer\u001b[0m\u001b[0;34m)\u001b[0m\u001b[0;34m\u001b[0m\u001b[0;34m\u001b[0m\u001b[0m\n\u001b[0m\u001b[1;32m    138\u001b[0m     \u001b[0;32melse\u001b[0m\u001b[0;34m:\u001b[0m\u001b[0;34m\u001b[0m\u001b[0;34m\u001b[0m\u001b[0m\n\u001b[1;32m    139\u001b[0m         \u001b[0;31m# Composite any adjacent images together\u001b[0m\u001b[0;34m\u001b[0m\u001b[0;34m\u001b[0m\u001b[0;34m\u001b[0m\u001b[0m\n",
            "\u001b[0;32m/usr/local/lib/python3.7/dist-packages/matplotlib/artist.py\u001b[0m in \u001b[0;36mdraw_wrapper\u001b[0;34m(artist, renderer, *args, **kwargs)\u001b[0m\n\u001b[1;32m     36\u001b[0m                 \u001b[0mrenderer\u001b[0m\u001b[0;34m.\u001b[0m\u001b[0mstart_filter\u001b[0m\u001b[0;34m(\u001b[0m\u001b[0;34m)\u001b[0m\u001b[0;34m\u001b[0m\u001b[0;34m\u001b[0m\u001b[0m\n\u001b[1;32m     37\u001b[0m \u001b[0;34m\u001b[0m\u001b[0m\n\u001b[0;32m---> 38\u001b[0;31m             \u001b[0;32mreturn\u001b[0m \u001b[0mdraw\u001b[0m\u001b[0;34m(\u001b[0m\u001b[0martist\u001b[0m\u001b[0;34m,\u001b[0m \u001b[0mrenderer\u001b[0m\u001b[0;34m,\u001b[0m \u001b[0;34m*\u001b[0m\u001b[0margs\u001b[0m\u001b[0;34m,\u001b[0m \u001b[0;34m**\u001b[0m\u001b[0mkwargs\u001b[0m\u001b[0;34m)\u001b[0m\u001b[0;34m\u001b[0m\u001b[0;34m\u001b[0m\u001b[0m\n\u001b[0m\u001b[1;32m     39\u001b[0m         \u001b[0;32mfinally\u001b[0m\u001b[0;34m:\u001b[0m\u001b[0;34m\u001b[0m\u001b[0;34m\u001b[0m\u001b[0m\n\u001b[1;32m     40\u001b[0m             \u001b[0;32mif\u001b[0m \u001b[0martist\u001b[0m\u001b[0;34m.\u001b[0m\u001b[0mget_agg_filter\u001b[0m\u001b[0;34m(\u001b[0m\u001b[0;34m)\u001b[0m \u001b[0;32mis\u001b[0m \u001b[0;32mnot\u001b[0m \u001b[0;32mNone\u001b[0m\u001b[0;34m:\u001b[0m\u001b[0;34m\u001b[0m\u001b[0;34m\u001b[0m\u001b[0m\n",
            "\u001b[0;32m/usr/local/lib/python3.7/dist-packages/matplotlib/axes/_base.py\u001b[0m in \u001b[0;36mdraw\u001b[0;34m(self, renderer, inframe)\u001b[0m\n\u001b[1;32m   2628\u001b[0m             \u001b[0mrenderer\u001b[0m\u001b[0;34m.\u001b[0m\u001b[0mstop_rasterizing\u001b[0m\u001b[0;34m(\u001b[0m\u001b[0;34m)\u001b[0m\u001b[0;34m\u001b[0m\u001b[0;34m\u001b[0m\u001b[0m\n\u001b[1;32m   2629\u001b[0m \u001b[0;34m\u001b[0m\u001b[0m\n\u001b[0;32m-> 2630\u001b[0;31m         \u001b[0mmimage\u001b[0m\u001b[0;34m.\u001b[0m\u001b[0m_draw_list_compositing_images\u001b[0m\u001b[0;34m(\u001b[0m\u001b[0mrenderer\u001b[0m\u001b[0;34m,\u001b[0m \u001b[0mself\u001b[0m\u001b[0;34m,\u001b[0m \u001b[0martists\u001b[0m\u001b[0;34m)\u001b[0m\u001b[0;34m\u001b[0m\u001b[0;34m\u001b[0m\u001b[0m\n\u001b[0m\u001b[1;32m   2631\u001b[0m \u001b[0;34m\u001b[0m\u001b[0m\n\u001b[1;32m   2632\u001b[0m         \u001b[0mrenderer\u001b[0m\u001b[0;34m.\u001b[0m\u001b[0mclose_group\u001b[0m\u001b[0;34m(\u001b[0m\u001b[0;34m'axes'\u001b[0m\u001b[0;34m)\u001b[0m\u001b[0;34m\u001b[0m\u001b[0;34m\u001b[0m\u001b[0m\n",
            "\u001b[0;32m/usr/local/lib/python3.7/dist-packages/matplotlib/image.py\u001b[0m in \u001b[0;36m_draw_list_compositing_images\u001b[0;34m(renderer, parent, artists, suppress_composite)\u001b[0m\n\u001b[1;32m    135\u001b[0m     \u001b[0;32mif\u001b[0m \u001b[0mnot_composite\u001b[0m \u001b[0;32mor\u001b[0m \u001b[0;32mnot\u001b[0m \u001b[0mhas_images\u001b[0m\u001b[0;34m:\u001b[0m\u001b[0;34m\u001b[0m\u001b[0;34m\u001b[0m\u001b[0m\n\u001b[1;32m    136\u001b[0m         \u001b[0;32mfor\u001b[0m \u001b[0ma\u001b[0m \u001b[0;32min\u001b[0m \u001b[0martists\u001b[0m\u001b[0;34m:\u001b[0m\u001b[0;34m\u001b[0m\u001b[0;34m\u001b[0m\u001b[0m\n\u001b[0;32m--> 137\u001b[0;31m             \u001b[0ma\u001b[0m\u001b[0;34m.\u001b[0m\u001b[0mdraw\u001b[0m\u001b[0;34m(\u001b[0m\u001b[0mrenderer\u001b[0m\u001b[0;34m)\u001b[0m\u001b[0;34m\u001b[0m\u001b[0;34m\u001b[0m\u001b[0m\n\u001b[0m\u001b[1;32m    138\u001b[0m     \u001b[0;32melse\u001b[0m\u001b[0;34m:\u001b[0m\u001b[0;34m\u001b[0m\u001b[0;34m\u001b[0m\u001b[0m\n\u001b[1;32m    139\u001b[0m         \u001b[0;31m# Composite any adjacent images together\u001b[0m\u001b[0;34m\u001b[0m\u001b[0;34m\u001b[0m\u001b[0;34m\u001b[0m\u001b[0m\n",
            "\u001b[0;32m/usr/local/lib/python3.7/dist-packages/matplotlib/artist.py\u001b[0m in \u001b[0;36mdraw_wrapper\u001b[0;34m(artist, renderer, *args, **kwargs)\u001b[0m\n\u001b[1;32m     36\u001b[0m                 \u001b[0mrenderer\u001b[0m\u001b[0;34m.\u001b[0m\u001b[0mstart_filter\u001b[0m\u001b[0;34m(\u001b[0m\u001b[0;34m)\u001b[0m\u001b[0;34m\u001b[0m\u001b[0;34m\u001b[0m\u001b[0m\n\u001b[1;32m     37\u001b[0m \u001b[0;34m\u001b[0m\u001b[0m\n\u001b[0;32m---> 38\u001b[0;31m             \u001b[0;32mreturn\u001b[0m \u001b[0mdraw\u001b[0m\u001b[0;34m(\u001b[0m\u001b[0martist\u001b[0m\u001b[0;34m,\u001b[0m \u001b[0mrenderer\u001b[0m\u001b[0;34m,\u001b[0m \u001b[0;34m*\u001b[0m\u001b[0margs\u001b[0m\u001b[0;34m,\u001b[0m \u001b[0;34m**\u001b[0m\u001b[0mkwargs\u001b[0m\u001b[0;34m)\u001b[0m\u001b[0;34m\u001b[0m\u001b[0;34m\u001b[0m\u001b[0m\n\u001b[0m\u001b[1;32m     39\u001b[0m         \u001b[0;32mfinally\u001b[0m\u001b[0;34m:\u001b[0m\u001b[0;34m\u001b[0m\u001b[0;34m\u001b[0m\u001b[0m\n\u001b[1;32m     40\u001b[0m             \u001b[0;32mif\u001b[0m \u001b[0martist\u001b[0m\u001b[0;34m.\u001b[0m\u001b[0mget_agg_filter\u001b[0m\u001b[0;34m(\u001b[0m\u001b[0;34m)\u001b[0m \u001b[0;32mis\u001b[0m \u001b[0;32mnot\u001b[0m \u001b[0;32mNone\u001b[0m\u001b[0;34m:\u001b[0m\u001b[0;34m\u001b[0m\u001b[0;34m\u001b[0m\u001b[0m\n",
            "\u001b[0;32m/usr/local/lib/python3.7/dist-packages/matplotlib/image.py\u001b[0m in \u001b[0;36mdraw\u001b[0;34m(self, renderer, *args, **kwargs)\u001b[0m\n\u001b[1;32m    624\u001b[0m         \u001b[0;32melse\u001b[0m\u001b[0;34m:\u001b[0m\u001b[0;34m\u001b[0m\u001b[0;34m\u001b[0m\u001b[0m\n\u001b[1;32m    625\u001b[0m             im, l, b, trans = self.make_image(\n\u001b[0;32m--> 626\u001b[0;31m                 renderer, renderer.get_image_magnification())\n\u001b[0m\u001b[1;32m    627\u001b[0m             \u001b[0;32mif\u001b[0m \u001b[0mim\u001b[0m \u001b[0;32mis\u001b[0m \u001b[0;32mnot\u001b[0m \u001b[0;32mNone\u001b[0m\u001b[0;34m:\u001b[0m\u001b[0;34m\u001b[0m\u001b[0;34m\u001b[0m\u001b[0m\n\u001b[1;32m    628\u001b[0m                 \u001b[0mrenderer\u001b[0m\u001b[0;34m.\u001b[0m\u001b[0mdraw_image\u001b[0m\u001b[0;34m(\u001b[0m\u001b[0mgc\u001b[0m\u001b[0;34m,\u001b[0m \u001b[0ml\u001b[0m\u001b[0;34m,\u001b[0m \u001b[0mb\u001b[0m\u001b[0;34m,\u001b[0m \u001b[0mim\u001b[0m\u001b[0;34m)\u001b[0m\u001b[0;34m\u001b[0m\u001b[0;34m\u001b[0m\u001b[0m\n",
            "\u001b[0;32m/usr/local/lib/python3.7/dist-packages/matplotlib/image.py\u001b[0m in \u001b[0;36mmake_image\u001b[0;34m(self, renderer, magnification, unsampled)\u001b[0m\n\u001b[1;32m    915\u001b[0m             \u001b[0mself\u001b[0m\u001b[0;34m.\u001b[0m\u001b[0m_A\u001b[0m\u001b[0;34m,\u001b[0m \u001b[0mbbox\u001b[0m\u001b[0;34m,\u001b[0m \u001b[0mtransformed_bbox\u001b[0m\u001b[0;34m,\u001b[0m\u001b[0;34m\u001b[0m\u001b[0;34m\u001b[0m\u001b[0m\n\u001b[1;32m    916\u001b[0m             \u001b[0mself\u001b[0m\u001b[0;34m.\u001b[0m\u001b[0mget_clip_box\u001b[0m\u001b[0;34m(\u001b[0m\u001b[0;34m)\u001b[0m \u001b[0;32mor\u001b[0m \u001b[0mself\u001b[0m\u001b[0;34m.\u001b[0m\u001b[0maxes\u001b[0m\u001b[0;34m.\u001b[0m\u001b[0mbbox\u001b[0m\u001b[0;34m,\u001b[0m\u001b[0;34m\u001b[0m\u001b[0;34m\u001b[0m\u001b[0m\n\u001b[0;32m--> 917\u001b[0;31m             magnification, unsampled=unsampled)\n\u001b[0m\u001b[1;32m    918\u001b[0m \u001b[0;34m\u001b[0m\u001b[0m\n\u001b[1;32m    919\u001b[0m     \u001b[0;32mdef\u001b[0m \u001b[0m_check_unsampled_image\u001b[0m\u001b[0;34m(\u001b[0m\u001b[0mself\u001b[0m\u001b[0;34m,\u001b[0m \u001b[0mrenderer\u001b[0m\u001b[0;34m)\u001b[0m\u001b[0;34m:\u001b[0m\u001b[0;34m\u001b[0m\u001b[0;34m\u001b[0m\u001b[0m\n",
            "\u001b[0;32m/usr/local/lib/python3.7/dist-packages/matplotlib/image.py\u001b[0m in \u001b[0;36m_make_image\u001b[0;34m(self, A, in_bbox, out_bbox, clip_bbox, magnification, unsampled, round_to_pixel_border)\u001b[0m\n\u001b[1;32m    522\u001b[0m                     self, A[..., 3], out_shape, t, alpha=alpha)\n\u001b[1;32m    523\u001b[0m                 output = _resample(  # resample rgb channels\n\u001b[0;32m--> 524\u001b[0;31m                     self, _rgb_to_rgba(A[..., :3]), out_shape, t, alpha=alpha)\n\u001b[0m\u001b[1;32m    525\u001b[0m                 \u001b[0moutput\u001b[0m\u001b[0;34m[\u001b[0m\u001b[0;34m...\u001b[0m\u001b[0;34m,\u001b[0m \u001b[0;36m3\u001b[0m\u001b[0;34m]\u001b[0m \u001b[0;34m=\u001b[0m \u001b[0moutput_alpha\u001b[0m  \u001b[0;31m# recombine rgb and alpha\u001b[0m\u001b[0;34m\u001b[0m\u001b[0;34m\u001b[0m\u001b[0m\n\u001b[1;32m    526\u001b[0m \u001b[0;34m\u001b[0m\u001b[0m\n",
            "\u001b[0;32m/usr/local/lib/python3.7/dist-packages/matplotlib/image.py\u001b[0m in \u001b[0;36m_rgb_to_rgba\u001b[0;34m(A)\u001b[0m\n\u001b[1;32m    210\u001b[0m     \"\"\"\n\u001b[1;32m    211\u001b[0m     \u001b[0mrgba\u001b[0m \u001b[0;34m=\u001b[0m \u001b[0mnp\u001b[0m\u001b[0;34m.\u001b[0m\u001b[0mzeros\u001b[0m\u001b[0;34m(\u001b[0m\u001b[0;34m(\u001b[0m\u001b[0mA\u001b[0m\u001b[0;34m.\u001b[0m\u001b[0mshape\u001b[0m\u001b[0;34m[\u001b[0m\u001b[0;36m0\u001b[0m\u001b[0;34m]\u001b[0m\u001b[0;34m,\u001b[0m \u001b[0mA\u001b[0m\u001b[0;34m.\u001b[0m\u001b[0mshape\u001b[0m\u001b[0;34m[\u001b[0m\u001b[0;36m1\u001b[0m\u001b[0;34m]\u001b[0m\u001b[0;34m,\u001b[0m \u001b[0;36m4\u001b[0m\u001b[0;34m)\u001b[0m\u001b[0;34m,\u001b[0m \u001b[0mdtype\u001b[0m\u001b[0;34m=\u001b[0m\u001b[0mA\u001b[0m\u001b[0;34m.\u001b[0m\u001b[0mdtype\u001b[0m\u001b[0;34m)\u001b[0m\u001b[0;34m\u001b[0m\u001b[0;34m\u001b[0m\u001b[0m\n\u001b[0;32m--> 212\u001b[0;31m     \u001b[0mrgba\u001b[0m\u001b[0;34m[\u001b[0m\u001b[0;34m:\u001b[0m\u001b[0;34m,\u001b[0m \u001b[0;34m:\u001b[0m\u001b[0;34m,\u001b[0m \u001b[0;34m:\u001b[0m\u001b[0;36m3\u001b[0m\u001b[0;34m]\u001b[0m \u001b[0;34m=\u001b[0m \u001b[0mA\u001b[0m\u001b[0;34m\u001b[0m\u001b[0;34m\u001b[0m\u001b[0m\n\u001b[0m\u001b[1;32m    213\u001b[0m     \u001b[0;32mif\u001b[0m \u001b[0mrgba\u001b[0m\u001b[0;34m.\u001b[0m\u001b[0mdtype\u001b[0m \u001b[0;34m==\u001b[0m \u001b[0mnp\u001b[0m\u001b[0;34m.\u001b[0m\u001b[0muint8\u001b[0m\u001b[0;34m:\u001b[0m\u001b[0;34m\u001b[0m\u001b[0;34m\u001b[0m\u001b[0m\n\u001b[1;32m    214\u001b[0m         \u001b[0mrgba\u001b[0m\u001b[0;34m[\u001b[0m\u001b[0;34m:\u001b[0m\u001b[0;34m,\u001b[0m \u001b[0;34m:\u001b[0m\u001b[0;34m,\u001b[0m \u001b[0;36m3\u001b[0m\u001b[0;34m]\u001b[0m \u001b[0;34m=\u001b[0m \u001b[0;36m255\u001b[0m\u001b[0;34m\u001b[0m\u001b[0;34m\u001b[0m\u001b[0m\n",
            "\u001b[0;31mKeyboardInterrupt\u001b[0m: "
          ]
        },
        {
          "output_type": "display_data",
          "data": {
            "image/png": "[encoded data removed]",
            "text/plain": [
              "<Figure size 432x288 with 1 Axes>"
            ]
          },
          "metadata": {
            "tags": [],
            "needs_background": "light"
          }
        }
      ]
    },
    {
      "cell_type": "code",
      "metadata": {
        "id": "wnfByJHhqjCV"
      },
      "source": [],
      "execution_count": null,
      "outputs": []
    },
    {
      "cell_type": "code",
      "metadata": {
        "id": "_vN5lwDKqjES"
      },
      "source": [],
      "execution_count": null,
      "outputs": []
    },
    {
      "cell_type": "code",
      "metadata": {
        "id": "lWblPCn_qjHx"
      },
      "source": [
        "#make it anti turn"
      ],
      "execution_count": null,
      "outputs": []
    },
    {
      "cell_type": "code",
      "metadata": {
        "id": "3sxsB9AJMaMu",
        "colab": {
          "base_uri": "https://localhost:8080/",
          "height": 607
        },
        "outputId": "ff8ce154-c0f3-4c1b-e91c-846c77a80cd9"
      },
      "source": [
        " \n",
        "look_ahead= 5\n",
        "#route_16_04_08_16_05_14\n",
        "for f in os.listdir(\"/gdrive/MyDrive/Drive/CARLA_challenge_autopilot\"):\n",
        "  files =os.listdir(\"/gdrive/MyDrive/Drive/CARLA_challenge_autopilot/\"+f+\"/measurements\")\n",
        "  m,n = get_max(files)\n",
        "  for i in range(m+1-look_ahead):\n",
        "    name = get_string(i,n)\n",
        "    traj =[]\n",
        "    jf =\"/gdrive/MyDrive/Drive/CARLA_challenge_autopilot/\"+f+\"/measurements/\"+name+\".json\"\n",
        " \n",
        "    simdata = read_json_better(jf)#[x 0 ,y 1 ,theta(rad) 2 ,speed 3 ,target_speed 4 ,x_command 5 ,y_command 6 ,command 7 ,steer 8 ,throttle 9 ,brake 10 ]\n",
        " \n",
        "    #if int(simdata[7]) !=6:\n",
        "    #  continue\n",
        "    rgb=cv2.imread(\"/gdrive/MyDrive/Drive/CARLA_challenge_autopilot/\"+f+\"/rgb/\"+name+\".png\")\n",
        "    top =cv2.imread(\"/gdrive/MyDrive/Drive/CARLA_challenge_autopilot/\"+f+\"/topdown/\"+name+\".png\")\n",
        "    rgb = cv2.cvtColor(rgb, cv2.COLOR_BGR2RGB)\n",
        "    top = cv2.cvtColor(top, cv2.COLOR_BGR2RGB) \n",
        "         \n",
        "    top_crop = top#[top.shape[0]//2-rgb.shape[0]//2:top.shape[0]//2+rgb.shape[0]//2,top.shape[0]//2 - rgb.shape[1]//2:top.shape[0]//2+rgb.shape[1]//2]\n",
        "    cars = map_semseg_colors(top_crop,cmap,cat=10)\n",
        "    #print(top_crop[top_crop.shape[0]//2,top_crop.shape[1]//2])\n",
        "    top_crop,chkpos = next_chk_top(top_crop,simdata[5],simdata[6],simdata[0],simdata[1],simdata[2],thickness=8)# put checkpoint\n",
        "    #rgb = visualise_check(chkpos,rgb)#,(255,255,255))\n",
        "    for j in range(look_ahead):\n",
        " \n",
        "      simdata1 = read_json_better(\"/gdrive/MyDrive/Drive/CARLA_challenge_autopilot/\"+f+\"/measurements/\"+get_string(i+1+j,n)+\".json\")\n",
        "      top_crop,pos = next_chk_top(top_crop,simdata1[0],simdata1[1],simdata[0],simdata[1],simdata[2],thickness=-1,chk_theta=simdata1[2])\n",
        "      #rgb,points = visualise_way(pos,rgb,(255,255,255),False)#to visualise in front view\n",
        "      #pos = delta Y, delta X wrt to car , where y is front axis and x is perpendicular to front axis in ground plane,origin is center\n",
        "      #points = x,y,(z) wrt to front view of car\n",
        "      traj.append(pos)#y,x\n",
        "    top_crop = map_semseg_colors(top_crop,cmap)\n",
        "    print(traj)\n",
        " \n",
        " \n",
        "    #img = np.hstack([rgb_left,rgb,rgb_right,top_crop])\n",
        "    img = np.hstack([cars,top_crop])\n",
        "    plt.imshow(img)\n",
        "    \n",
        "    if simdata is None:\n",
        "      print(\"empty\")\n",
        "      break\n",
        "    distc =dist(simdata[0],simdata[1],simdata[5],simdata[6])\n",
        "    #print(\"next :\",int(simdata[5]),int(simdata[6]),\"distace to next :\",distc,\"| pose :\",int((simdata[2]*180/np.pi)%360),\"| action :\",simdata[7],\"| s t b : \",simdata[8],simdata[9],simdata[10])\n",
        "    ipythondisplay.clear_output(wait=True)\n",
        "    ipythondisplay.display(plt.gcf())"
      ],
      "execution_count": null,
      "outputs": [
        {
          "output_type": "error",
          "ename": "KeyboardInterrupt",
          "evalue": "ignored",
          "traceback": [
            "\u001b[0;31m---------------------------------------------------------------------------\u001b[0m",
            "\u001b[0;31mKeyboardInterrupt\u001b[0m                         Traceback (most recent call last)",
            "\u001b[0;32m<ipython-input-57-9308d53233cb>\u001b[0m in \u001b[0;36m<module>\u001b[0;34m()\u001b[0m\n\u001b[1;32m    219\u001b[0m    \u001b[0;31m#print(\"next :\",int(simdata[5]),int(simdata[6]),\"distace to next :\",distc,\"| pose :\",int((simdata[2]*180/np.pi)%360),\"| action :\",simdata[7],\"| s t b : \",simdata[8],simdata[9],simdata[10])\u001b[0m\u001b[0;34m\u001b[0m\u001b[0;34m\u001b[0m\u001b[0;34m\u001b[0m\u001b[0m\n\u001b[1;32m    220\u001b[0m    \u001b[0mipythondisplay\u001b[0m\u001b[0;34m.\u001b[0m\u001b[0mclear_output\u001b[0m\u001b[0;34m(\u001b[0m\u001b[0mwait\u001b[0m\u001b[0;34m=\u001b[0m\u001b[0;32mTrue\u001b[0m\u001b[0;34m)\u001b[0m\u001b[0;34m\u001b[0m\u001b[0;34m\u001b[0m\u001b[0m\n\u001b[0;32m--> 221\u001b[0;31m    \u001b[0mipythondisplay\u001b[0m\u001b[0;34m.\u001b[0m\u001b[0mdisplay\u001b[0m\u001b[0;34m(\u001b[0m\u001b[0mplt\u001b[0m\u001b[0;34m.\u001b[0m\u001b[0mgcf\u001b[0m\u001b[0;34m(\u001b[0m\u001b[0;34m)\u001b[0m\u001b[0;34m)\u001b[0m\u001b[0;34m\u001b[0m\u001b[0;34m\u001b[0m\u001b[0m\n\u001b[0m",
            "\u001b[0;32m/usr/local/lib/python3.7/dist-packages/IPython/core/display.py\u001b[0m in \u001b[0;36mdisplay\u001b[0;34m(*objs, **kwargs)\u001b[0m\n\u001b[1;32m    304\u001b[0m             \u001b[0mpublish_display_data\u001b[0m\u001b[0;34m(\u001b[0m\u001b[0mdata\u001b[0m\u001b[0;34m=\u001b[0m\u001b[0mobj\u001b[0m\u001b[0;34m,\u001b[0m \u001b[0mmetadata\u001b[0m\u001b[0;34m=\u001b[0m\u001b[0mmetadata\u001b[0m\u001b[0;34m,\u001b[0m \u001b[0;34m**\u001b[0m\u001b[0mkwargs\u001b[0m\u001b[0;34m)\u001b[0m\u001b[0;34m\u001b[0m\u001b[0;34m\u001b[0m\u001b[0m\n\u001b[1;32m    305\u001b[0m         \u001b[0;32melse\u001b[0m\u001b[0;34m:\u001b[0m\u001b[0;34m\u001b[0m\u001b[0;34m\u001b[0m\u001b[0m\n\u001b[0;32m--> 306\u001b[0;31m             \u001b[0mformat_dict\u001b[0m\u001b[0;34m,\u001b[0m \u001b[0mmd_dict\u001b[0m \u001b[0;34m=\u001b[0m \u001b[0mformat\u001b[0m\u001b[0;34m(\u001b[0m\u001b[0mobj\u001b[0m\u001b[0;34m,\u001b[0m \u001b[0minclude\u001b[0m\u001b[0;34m=\u001b[0m\u001b[0minclude\u001b[0m\u001b[0;34m,\u001b[0m \u001b[0mexclude\u001b[0m\u001b[0;34m=\u001b[0m\u001b[0mexclude\u001b[0m\u001b[0;34m)\u001b[0m\u001b[0;34m\u001b[0m\u001b[0;34m\u001b[0m\u001b[0m\n\u001b[0m\u001b[1;32m    307\u001b[0m             \u001b[0;32mif\u001b[0m \u001b[0;32mnot\u001b[0m \u001b[0mformat_dict\u001b[0m\u001b[0;34m:\u001b[0m\u001b[0;34m\u001b[0m\u001b[0;34m\u001b[0m\u001b[0m\n\u001b[1;32m    308\u001b[0m                 \u001b[0;31m# nothing to display (e.g. _ipython_display_ took over)\u001b[0m\u001b[0;34m\u001b[0m\u001b[0;34m\u001b[0m\u001b[0;34m\u001b[0m\u001b[0m\n",
            "\u001b[0;32m/usr/local/lib/python3.7/dist-packages/IPython/core/formatters.py\u001b[0m in \u001b[0;36mformat\u001b[0;34m(self, obj, include, exclude)\u001b[0m\n\u001b[1;32m    171\u001b[0m             \u001b[0mmd\u001b[0m \u001b[0;34m=\u001b[0m \u001b[0;32mNone\u001b[0m\u001b[0;34m\u001b[0m\u001b[0;34m\u001b[0m\u001b[0m\n\u001b[1;32m    172\u001b[0m             \u001b[0;32mtry\u001b[0m\u001b[0;34m:\u001b[0m\u001b[0;34m\u001b[0m\u001b[0;34m\u001b[0m\u001b[0m\n\u001b[0;32m--> 173\u001b[0;31m                 \u001b[0mdata\u001b[0m \u001b[0;34m=\u001b[0m \u001b[0mformatter\u001b[0m\u001b[0;34m(\u001b[0m\u001b[0mobj\u001b[0m\u001b[0;34m)\u001b[0m\u001b[0;34m\u001b[0m\u001b[0;34m\u001b[0m\u001b[0m\n\u001b[0m\u001b[1;32m    174\u001b[0m             \u001b[0;32mexcept\u001b[0m\u001b[0;34m:\u001b[0m\u001b[0;34m\u001b[0m\u001b[0;34m\u001b[0m\u001b[0m\n\u001b[1;32m    175\u001b[0m                 \u001b[0;31m# FIXME: log the exception\u001b[0m\u001b[0;34m\u001b[0m\u001b[0;34m\u001b[0m\u001b[0;34m\u001b[0m\u001b[0m\n",
            "\u001b[0;32m<decorator-gen-2>\u001b[0m in \u001b[0;36m__call__\u001b[0;34m(self, obj)\u001b[0m\n",
            "\u001b[0;32m/usr/local/lib/python3.7/dist-packages/IPython/core/formatters.py\u001b[0m in \u001b[0;36mcatch_format_error\u001b[0;34m(method, self, *args, **kwargs)\u001b[0m\n\u001b[1;32m    215\u001b[0m     \u001b[0;34m\"\"\"show traceback on failed format call\"\"\"\u001b[0m\u001b[0;34m\u001b[0m\u001b[0;34m\u001b[0m\u001b[0m\n\u001b[1;32m    216\u001b[0m     \u001b[0;32mtry\u001b[0m\u001b[0;34m:\u001b[0m\u001b[0;34m\u001b[0m\u001b[0;34m\u001b[0m\u001b[0m\n\u001b[0;32m--> 217\u001b[0;31m         \u001b[0mr\u001b[0m \u001b[0;34m=\u001b[0m \u001b[0mmethod\u001b[0m\u001b[0;34m(\u001b[0m\u001b[0mself\u001b[0m\u001b[0;34m,\u001b[0m \u001b[0;34m*\u001b[0m\u001b[0margs\u001b[0m\u001b[0;34m,\u001b[0m \u001b[0;34m**\u001b[0m\u001b[0mkwargs\u001b[0m\u001b[0;34m)\u001b[0m\u001b[0;34m\u001b[0m\u001b[0;34m\u001b[0m\u001b[0m\n\u001b[0m\u001b[1;32m    218\u001b[0m     \u001b[0;32mexcept\u001b[0m \u001b[0mNotImplementedError\u001b[0m\u001b[0;34m:\u001b[0m\u001b[0;34m\u001b[0m\u001b[0;34m\u001b[0m\u001b[0m\n\u001b[1;32m    219\u001b[0m         \u001b[0;31m# don't warn on NotImplementedErrors\u001b[0m\u001b[0;34m\u001b[0m\u001b[0;34m\u001b[0m\u001b[0;34m\u001b[0m\u001b[0m\n",
            "\u001b[0;32m/usr/local/lib/python3.7/dist-packages/IPython/core/formatters.py\u001b[0m in \u001b[0;36m__call__\u001b[0;34m(self, obj)\u001b[0m\n\u001b[1;32m    332\u001b[0m                 \u001b[0;32mpass\u001b[0m\u001b[0;34m\u001b[0m\u001b[0;34m\u001b[0m\u001b[0m\n\u001b[1;32m    333\u001b[0m             \u001b[0;32melse\u001b[0m\u001b[0;34m:\u001b[0m\u001b[0;34m\u001b[0m\u001b[0;34m\u001b[0m\u001b[0m\n\u001b[0;32m--> 334\u001b[0;31m                 \u001b[0;32mreturn\u001b[0m \u001b[0mprinter\u001b[0m\u001b[0;34m(\u001b[0m\u001b[0mobj\u001b[0m\u001b[0;34m)\u001b[0m\u001b[0;34m\u001b[0m\u001b[0;34m\u001b[0m\u001b[0m\n\u001b[0m\u001b[1;32m    335\u001b[0m             \u001b[0;31m# Finally look for special method names\u001b[0m\u001b[0;34m\u001b[0m\u001b[0;34m\u001b[0m\u001b[0;34m\u001b[0m\u001b[0m\n\u001b[1;32m    336\u001b[0m             \u001b[0mmethod\u001b[0m \u001b[0;34m=\u001b[0m \u001b[0mget_real_method\u001b[0m\u001b[0;34m(\u001b[0m\u001b[0mobj\u001b[0m\u001b[0;34m,\u001b[0m \u001b[0mself\u001b[0m\u001b[0;34m.\u001b[0m\u001b[0mprint_method\u001b[0m\u001b[0;34m)\u001b[0m\u001b[0;34m\u001b[0m\u001b[0;34m\u001b[0m\u001b[0m\n",
            "\u001b[0;32m/usr/local/lib/python3.7/dist-packages/IPython/core/pylabtools.py\u001b[0m in \u001b[0;36m<lambda>\u001b[0;34m(fig)\u001b[0m\n\u001b[1;32m    239\u001b[0m \u001b[0;34m\u001b[0m\u001b[0m\n\u001b[1;32m    240\u001b[0m     \u001b[0;32mif\u001b[0m \u001b[0;34m'png'\u001b[0m \u001b[0;32min\u001b[0m \u001b[0mformats\u001b[0m\u001b[0;34m:\u001b[0m\u001b[0;34m\u001b[0m\u001b[0;34m\u001b[0m\u001b[0m\n\u001b[0;32m--> 241\u001b[0;31m         \u001b[0mpng_formatter\u001b[0m\u001b[0;34m.\u001b[0m\u001b[0mfor_type\u001b[0m\u001b[0;34m(\u001b[0m\u001b[0mFigure\u001b[0m\u001b[0;34m,\u001b[0m \u001b[0;32mlambda\u001b[0m \u001b[0mfig\u001b[0m\u001b[0;34m:\u001b[0m \u001b[0mprint_figure\u001b[0m\u001b[0;34m(\u001b[0m\u001b[0mfig\u001b[0m\u001b[0;34m,\u001b[0m \u001b[0;34m'png'\u001b[0m\u001b[0;34m,\u001b[0m \u001b[0;34m**\u001b[0m\u001b[0mkwargs\u001b[0m\u001b[0;34m)\u001b[0m\u001b[0;34m)\u001b[0m\u001b[0;34m\u001b[0m\u001b[0;34m\u001b[0m\u001b[0m\n\u001b[0m\u001b[1;32m    242\u001b[0m     \u001b[0;32mif\u001b[0m \u001b[0;34m'retina'\u001b[0m \u001b[0;32min\u001b[0m \u001b[0mformats\u001b[0m \u001b[0;32mor\u001b[0m \u001b[0;34m'png2x'\u001b[0m \u001b[0;32min\u001b[0m \u001b[0mformats\u001b[0m\u001b[0;34m:\u001b[0m\u001b[0;34m\u001b[0m\u001b[0;34m\u001b[0m\u001b[0m\n\u001b[1;32m    243\u001b[0m         \u001b[0mpng_formatter\u001b[0m\u001b[0;34m.\u001b[0m\u001b[0mfor_type\u001b[0m\u001b[0;34m(\u001b[0m\u001b[0mFigure\u001b[0m\u001b[0;34m,\u001b[0m \u001b[0;32mlambda\u001b[0m \u001b[0mfig\u001b[0m\u001b[0;34m:\u001b[0m \u001b[0mretina_figure\u001b[0m\u001b[0;34m(\u001b[0m\u001b[0mfig\u001b[0m\u001b[0;34m,\u001b[0m \u001b[0;34m**\u001b[0m\u001b[0mkwargs\u001b[0m\u001b[0;34m)\u001b[0m\u001b[0;34m)\u001b[0m\u001b[0;34m\u001b[0m\u001b[0;34m\u001b[0m\u001b[0m\n",
            "\u001b[0;32m/usr/local/lib/python3.7/dist-packages/IPython/core/pylabtools.py\u001b[0m in \u001b[0;36mprint_figure\u001b[0;34m(fig, fmt, bbox_inches, **kwargs)\u001b[0m\n\u001b[1;32m    123\u001b[0m \u001b[0;34m\u001b[0m\u001b[0m\n\u001b[1;32m    124\u001b[0m     \u001b[0mbytes_io\u001b[0m \u001b[0;34m=\u001b[0m \u001b[0mBytesIO\u001b[0m\u001b[0;34m(\u001b[0m\u001b[0;34m)\u001b[0m\u001b[0;34m\u001b[0m\u001b[0;34m\u001b[0m\u001b[0m\n\u001b[0;32m--> 125\u001b[0;31m     \u001b[0mfig\u001b[0m\u001b[0;34m.\u001b[0m\u001b[0mcanvas\u001b[0m\u001b[0;34m.\u001b[0m\u001b[0mprint_figure\u001b[0m\u001b[0;34m(\u001b[0m\u001b[0mbytes_io\u001b[0m\u001b[0;34m,\u001b[0m \u001b[0;34m**\u001b[0m\u001b[0mkw\u001b[0m\u001b[0;34m)\u001b[0m\u001b[0;34m\u001b[0m\u001b[0;34m\u001b[0m\u001b[0m\n\u001b[0m\u001b[1;32m    126\u001b[0m     \u001b[0mdata\u001b[0m \u001b[0;34m=\u001b[0m \u001b[0mbytes_io\u001b[0m\u001b[0;34m.\u001b[0m\u001b[0mgetvalue\u001b[0m\u001b[0;34m(\u001b[0m\u001b[0;34m)\u001b[0m\u001b[0;34m\u001b[0m\u001b[0;34m\u001b[0m\u001b[0m\n\u001b[1;32m    127\u001b[0m     \u001b[0;32mif\u001b[0m \u001b[0mfmt\u001b[0m \u001b[0;34m==\u001b[0m \u001b[0;34m'svg'\u001b[0m\u001b[0;34m:\u001b[0m\u001b[0;34m\u001b[0m\u001b[0;34m\u001b[0m\u001b[0m\n",
            "\u001b[0;32m/usr/local/lib/python3.7/dist-packages/matplotlib/backend_bases.py\u001b[0m in \u001b[0;36mprint_figure\u001b[0;34m(self, filename, dpi, facecolor, edgecolor, orientation, format, bbox_inches, **kwargs)\u001b[0m\n\u001b[1;32m   2098\u001b[0m                            else suppress())\n\u001b[1;32m   2099\u001b[0m                     \u001b[0;32mwith\u001b[0m \u001b[0mctx\u001b[0m\u001b[0;34m:\u001b[0m\u001b[0;34m\u001b[0m\u001b[0;34m\u001b[0m\u001b[0m\n\u001b[0;32m-> 2100\u001b[0;31m                         \u001b[0mself\u001b[0m\u001b[0;34m.\u001b[0m\u001b[0mfigure\u001b[0m\u001b[0;34m.\u001b[0m\u001b[0mdraw\u001b[0m\u001b[0;34m(\u001b[0m\u001b[0mrenderer\u001b[0m\u001b[0;34m)\u001b[0m\u001b[0;34m\u001b[0m\u001b[0;34m\u001b[0m\u001b[0m\n\u001b[0m\u001b[1;32m   2101\u001b[0m                     \u001b[0mbbox_artists\u001b[0m \u001b[0;34m=\u001b[0m \u001b[0mkwargs\u001b[0m\u001b[0;34m.\u001b[0m\u001b[0mpop\u001b[0m\u001b[0;34m(\u001b[0m\u001b[0;34m\"bbox_extra_artists\"\u001b[0m\u001b[0;34m,\u001b[0m \u001b[0;32mNone\u001b[0m\u001b[0;34m)\u001b[0m\u001b[0;34m\u001b[0m\u001b[0;34m\u001b[0m\u001b[0m\n\u001b[1;32m   2102\u001b[0m                     bbox_inches = self.figure.get_tightbbox(renderer,\n",
            "\u001b[0;32m/usr/local/lib/python3.7/dist-packages/matplotlib/artist.py\u001b[0m in \u001b[0;36mdraw_wrapper\u001b[0;34m(artist, renderer, *args, **kwargs)\u001b[0m\n\u001b[1;32m     36\u001b[0m                 \u001b[0mrenderer\u001b[0m\u001b[0;34m.\u001b[0m\u001b[0mstart_filter\u001b[0m\u001b[0;34m(\u001b[0m\u001b[0;34m)\u001b[0m\u001b[0;34m\u001b[0m\u001b[0;34m\u001b[0m\u001b[0m\n\u001b[1;32m     37\u001b[0m \u001b[0;34m\u001b[0m\u001b[0m\n\u001b[0;32m---> 38\u001b[0;31m             \u001b[0;32mreturn\u001b[0m \u001b[0mdraw\u001b[0m\u001b[0;34m(\u001b[0m\u001b[0martist\u001b[0m\u001b[0;34m,\u001b[0m \u001b[0mrenderer\u001b[0m\u001b[0;34m,\u001b[0m \u001b[0;34m*\u001b[0m\u001b[0margs\u001b[0m\u001b[0;34m,\u001b[0m \u001b[0;34m**\u001b[0m\u001b[0mkwargs\u001b[0m\u001b[0;34m)\u001b[0m\u001b[0;34m\u001b[0m\u001b[0;34m\u001b[0m\u001b[0m\n\u001b[0m\u001b[1;32m     39\u001b[0m         \u001b[0;32mfinally\u001b[0m\u001b[0;34m:\u001b[0m\u001b[0;34m\u001b[0m\u001b[0;34m\u001b[0m\u001b[0m\n\u001b[1;32m     40\u001b[0m             \u001b[0;32mif\u001b[0m \u001b[0martist\u001b[0m\u001b[0;34m.\u001b[0m\u001b[0mget_agg_filter\u001b[0m\u001b[0;34m(\u001b[0m\u001b[0;34m)\u001b[0m \u001b[0;32mis\u001b[0m \u001b[0;32mnot\u001b[0m \u001b[0;32mNone\u001b[0m\u001b[0;34m:\u001b[0m\u001b[0;34m\u001b[0m\u001b[0;34m\u001b[0m\u001b[0m\n",
            "\u001b[0;32m/usr/local/lib/python3.7/dist-packages/matplotlib/figure.py\u001b[0m in \u001b[0;36mdraw\u001b[0;34m(self, renderer)\u001b[0m\n\u001b[1;32m   1734\u001b[0m             \u001b[0mself\u001b[0m\u001b[0;34m.\u001b[0m\u001b[0mpatch\u001b[0m\u001b[0;34m.\u001b[0m\u001b[0mdraw\u001b[0m\u001b[0;34m(\u001b[0m\u001b[0mrenderer\u001b[0m\u001b[0;34m)\u001b[0m\u001b[0;34m\u001b[0m\u001b[0;34m\u001b[0m\u001b[0m\n\u001b[1;32m   1735\u001b[0m             mimage._draw_list_compositing_images(\n\u001b[0;32m-> 1736\u001b[0;31m                 renderer, self, artists, self.suppressComposite)\n\u001b[0m\u001b[1;32m   1737\u001b[0m \u001b[0;34m\u001b[0m\u001b[0m\n\u001b[1;32m   1738\u001b[0m             \u001b[0mrenderer\u001b[0m\u001b[0;34m.\u001b[0m\u001b[0mclose_group\u001b[0m\u001b[0;34m(\u001b[0m\u001b[0;34m'figure'\u001b[0m\u001b[0;34m)\u001b[0m\u001b[0;34m\u001b[0m\u001b[0;34m\u001b[0m\u001b[0m\n",
            "\u001b[0;32m/usr/local/lib/python3.7/dist-packages/matplotlib/image.py\u001b[0m in \u001b[0;36m_draw_list_compositing_images\u001b[0;34m(renderer, parent, artists, suppress_composite)\u001b[0m\n\u001b[1;32m    135\u001b[0m     \u001b[0;32mif\u001b[0m \u001b[0mnot_composite\u001b[0m \u001b[0;32mor\u001b[0m \u001b[0;32mnot\u001b[0m \u001b[0mhas_images\u001b[0m\u001b[0;34m:\u001b[0m\u001b[0;34m\u001b[0m\u001b[0;34m\u001b[0m\u001b[0m\n\u001b[1;32m    136\u001b[0m         \u001b[0;32mfor\u001b[0m \u001b[0ma\u001b[0m \u001b[0;32min\u001b[0m \u001b[0martists\u001b[0m\u001b[0;34m:\u001b[0m\u001b[0;34m\u001b[0m\u001b[0;34m\u001b[0m\u001b[0m\n\u001b[0;32m--> 137\u001b[0;31m             \u001b[0ma\u001b[0m\u001b[0;34m.\u001b[0m\u001b[0mdraw\u001b[0m\u001b[0;34m(\u001b[0m\u001b[0mrenderer\u001b[0m\u001b[0;34m)\u001b[0m\u001b[0;34m\u001b[0m\u001b[0;34m\u001b[0m\u001b[0m\n\u001b[0m\u001b[1;32m    138\u001b[0m     \u001b[0;32melse\u001b[0m\u001b[0;34m:\u001b[0m\u001b[0;34m\u001b[0m\u001b[0;34m\u001b[0m\u001b[0m\n\u001b[1;32m    139\u001b[0m         \u001b[0;31m# Composite any adjacent images together\u001b[0m\u001b[0;34m\u001b[0m\u001b[0;34m\u001b[0m\u001b[0;34m\u001b[0m\u001b[0m\n",
            "\u001b[0;32m/usr/local/lib/python3.7/dist-packages/matplotlib/artist.py\u001b[0m in \u001b[0;36mdraw_wrapper\u001b[0;34m(artist, renderer, *args, **kwargs)\u001b[0m\n\u001b[1;32m     36\u001b[0m                 \u001b[0mrenderer\u001b[0m\u001b[0;34m.\u001b[0m\u001b[0mstart_filter\u001b[0m\u001b[0;34m(\u001b[0m\u001b[0;34m)\u001b[0m\u001b[0;34m\u001b[0m\u001b[0;34m\u001b[0m\u001b[0m\n\u001b[1;32m     37\u001b[0m \u001b[0;34m\u001b[0m\u001b[0m\n\u001b[0;32m---> 38\u001b[0;31m             \u001b[0;32mreturn\u001b[0m \u001b[0mdraw\u001b[0m\u001b[0;34m(\u001b[0m\u001b[0martist\u001b[0m\u001b[0;34m,\u001b[0m \u001b[0mrenderer\u001b[0m\u001b[0;34m,\u001b[0m \u001b[0;34m*\u001b[0m\u001b[0margs\u001b[0m\u001b[0;34m,\u001b[0m \u001b[0;34m**\u001b[0m\u001b[0mkwargs\u001b[0m\u001b[0;34m)\u001b[0m\u001b[0;34m\u001b[0m\u001b[0;34m\u001b[0m\u001b[0m\n\u001b[0m\u001b[1;32m     39\u001b[0m         \u001b[0;32mfinally\u001b[0m\u001b[0;34m:\u001b[0m\u001b[0;34m\u001b[0m\u001b[0;34m\u001b[0m\u001b[0m\n\u001b[1;32m     40\u001b[0m             \u001b[0;32mif\u001b[0m \u001b[0martist\u001b[0m\u001b[0;34m.\u001b[0m\u001b[0mget_agg_filter\u001b[0m\u001b[0;34m(\u001b[0m\u001b[0;34m)\u001b[0m \u001b[0;32mis\u001b[0m \u001b[0;32mnot\u001b[0m \u001b[0;32mNone\u001b[0m\u001b[0;34m:\u001b[0m\u001b[0;34m\u001b[0m\u001b[0;34m\u001b[0m\u001b[0m\n",
            "\u001b[0;32m/usr/local/lib/python3.7/dist-packages/matplotlib/axes/_base.py\u001b[0m in \u001b[0;36mdraw\u001b[0;34m(self, renderer, inframe)\u001b[0m\n\u001b[1;32m   2628\u001b[0m             \u001b[0mrenderer\u001b[0m\u001b[0;34m.\u001b[0m\u001b[0mstop_rasterizing\u001b[0m\u001b[0;34m(\u001b[0m\u001b[0;34m)\u001b[0m\u001b[0;34m\u001b[0m\u001b[0;34m\u001b[0m\u001b[0m\n\u001b[1;32m   2629\u001b[0m \u001b[0;34m\u001b[0m\u001b[0m\n\u001b[0;32m-> 2630\u001b[0;31m         \u001b[0mmimage\u001b[0m\u001b[0;34m.\u001b[0m\u001b[0m_draw_list_compositing_images\u001b[0m\u001b[0;34m(\u001b[0m\u001b[0mrenderer\u001b[0m\u001b[0;34m,\u001b[0m \u001b[0mself\u001b[0m\u001b[0;34m,\u001b[0m \u001b[0martists\u001b[0m\u001b[0;34m)\u001b[0m\u001b[0;34m\u001b[0m\u001b[0;34m\u001b[0m\u001b[0m\n\u001b[0m\u001b[1;32m   2631\u001b[0m \u001b[0;34m\u001b[0m\u001b[0m\n\u001b[1;32m   2632\u001b[0m         \u001b[0mrenderer\u001b[0m\u001b[0;34m.\u001b[0m\u001b[0mclose_group\u001b[0m\u001b[0;34m(\u001b[0m\u001b[0;34m'axes'\u001b[0m\u001b[0;34m)\u001b[0m\u001b[0;34m\u001b[0m\u001b[0;34m\u001b[0m\u001b[0m\n",
            "\u001b[0;32m/usr/local/lib/python3.7/dist-packages/matplotlib/image.py\u001b[0m in \u001b[0;36m_draw_list_compositing_images\u001b[0;34m(renderer, parent, artists, suppress_composite)\u001b[0m\n\u001b[1;32m    135\u001b[0m     \u001b[0;32mif\u001b[0m \u001b[0mnot_composite\u001b[0m \u001b[0;32mor\u001b[0m \u001b[0;32mnot\u001b[0m \u001b[0mhas_images\u001b[0m\u001b[0;34m:\u001b[0m\u001b[0;34m\u001b[0m\u001b[0;34m\u001b[0m\u001b[0m\n\u001b[1;32m    136\u001b[0m         \u001b[0;32mfor\u001b[0m \u001b[0ma\u001b[0m \u001b[0;32min\u001b[0m \u001b[0martists\u001b[0m\u001b[0;34m:\u001b[0m\u001b[0;34m\u001b[0m\u001b[0;34m\u001b[0m\u001b[0m\n\u001b[0;32m--> 137\u001b[0;31m             \u001b[0ma\u001b[0m\u001b[0;34m.\u001b[0m\u001b[0mdraw\u001b[0m\u001b[0;34m(\u001b[0m\u001b[0mrenderer\u001b[0m\u001b[0;34m)\u001b[0m\u001b[0;34m\u001b[0m\u001b[0;34m\u001b[0m\u001b[0m\n\u001b[0m\u001b[1;32m    138\u001b[0m     \u001b[0;32melse\u001b[0m\u001b[0;34m:\u001b[0m\u001b[0;34m\u001b[0m\u001b[0;34m\u001b[0m\u001b[0m\n\u001b[1;32m    139\u001b[0m         \u001b[0;31m# Composite any adjacent images together\u001b[0m\u001b[0;34m\u001b[0m\u001b[0;34m\u001b[0m\u001b[0;34m\u001b[0m\u001b[0m\n",
            "\u001b[0;32m/usr/local/lib/python3.7/dist-packages/matplotlib/artist.py\u001b[0m in \u001b[0;36mdraw_wrapper\u001b[0;34m(artist, renderer, *args, **kwargs)\u001b[0m\n\u001b[1;32m     36\u001b[0m                 \u001b[0mrenderer\u001b[0m\u001b[0;34m.\u001b[0m\u001b[0mstart_filter\u001b[0m\u001b[0;34m(\u001b[0m\u001b[0;34m)\u001b[0m\u001b[0;34m\u001b[0m\u001b[0;34m\u001b[0m\u001b[0m\n\u001b[1;32m     37\u001b[0m \u001b[0;34m\u001b[0m\u001b[0m\n\u001b[0;32m---> 38\u001b[0;31m             \u001b[0;32mreturn\u001b[0m \u001b[0mdraw\u001b[0m\u001b[0;34m(\u001b[0m\u001b[0martist\u001b[0m\u001b[0;34m,\u001b[0m \u001b[0mrenderer\u001b[0m\u001b[0;34m,\u001b[0m \u001b[0;34m*\u001b[0m\u001b[0margs\u001b[0m\u001b[0;34m,\u001b[0m \u001b[0;34m**\u001b[0m\u001b[0mkwargs\u001b[0m\u001b[0;34m)\u001b[0m\u001b[0;34m\u001b[0m\u001b[0;34m\u001b[0m\u001b[0m\n\u001b[0m\u001b[1;32m     39\u001b[0m         \u001b[0;32mfinally\u001b[0m\u001b[0;34m:\u001b[0m\u001b[0;34m\u001b[0m\u001b[0;34m\u001b[0m\u001b[0m\n\u001b[1;32m     40\u001b[0m             \u001b[0;32mif\u001b[0m \u001b[0martist\u001b[0m\u001b[0;34m.\u001b[0m\u001b[0mget_agg_filter\u001b[0m\u001b[0;34m(\u001b[0m\u001b[0;34m)\u001b[0m \u001b[0;32mis\u001b[0m \u001b[0;32mnot\u001b[0m \u001b[0;32mNone\u001b[0m\u001b[0;34m:\u001b[0m\u001b[0;34m\u001b[0m\u001b[0;34m\u001b[0m\u001b[0m\n",
            "\u001b[0;32m/usr/local/lib/python3.7/dist-packages/matplotlib/image.py\u001b[0m in \u001b[0;36mdraw\u001b[0;34m(self, renderer, *args, **kwargs)\u001b[0m\n\u001b[1;32m    624\u001b[0m         \u001b[0;32melse\u001b[0m\u001b[0;34m:\u001b[0m\u001b[0;34m\u001b[0m\u001b[0;34m\u001b[0m\u001b[0m\n\u001b[1;32m    625\u001b[0m             im, l, b, trans = self.make_image(\n\u001b[0;32m--> 626\u001b[0;31m                 renderer, renderer.get_image_magnification())\n\u001b[0m\u001b[1;32m    627\u001b[0m             \u001b[0;32mif\u001b[0m \u001b[0mim\u001b[0m \u001b[0;32mis\u001b[0m \u001b[0;32mnot\u001b[0m \u001b[0;32mNone\u001b[0m\u001b[0;34m:\u001b[0m\u001b[0;34m\u001b[0m\u001b[0;34m\u001b[0m\u001b[0m\n\u001b[1;32m    628\u001b[0m                 \u001b[0mrenderer\u001b[0m\u001b[0;34m.\u001b[0m\u001b[0mdraw_image\u001b[0m\u001b[0;34m(\u001b[0m\u001b[0mgc\u001b[0m\u001b[0;34m,\u001b[0m \u001b[0ml\u001b[0m\u001b[0;34m,\u001b[0m \u001b[0mb\u001b[0m\u001b[0;34m,\u001b[0m \u001b[0mim\u001b[0m\u001b[0;34m)\u001b[0m\u001b[0;34m\u001b[0m\u001b[0;34m\u001b[0m\u001b[0m\n",
            "\u001b[0;32m/usr/local/lib/python3.7/dist-packages/matplotlib/image.py\u001b[0m in \u001b[0;36mmake_image\u001b[0;34m(self, renderer, magnification, unsampled)\u001b[0m\n\u001b[1;32m    915\u001b[0m             \u001b[0mself\u001b[0m\u001b[0;34m.\u001b[0m\u001b[0m_A\u001b[0m\u001b[0;34m,\u001b[0m \u001b[0mbbox\u001b[0m\u001b[0;34m,\u001b[0m \u001b[0mtransformed_bbox\u001b[0m\u001b[0;34m,\u001b[0m\u001b[0;34m\u001b[0m\u001b[0;34m\u001b[0m\u001b[0m\n\u001b[1;32m    916\u001b[0m             \u001b[0mself\u001b[0m\u001b[0;34m.\u001b[0m\u001b[0mget_clip_box\u001b[0m\u001b[0;34m(\u001b[0m\u001b[0;34m)\u001b[0m \u001b[0;32mor\u001b[0m \u001b[0mself\u001b[0m\u001b[0;34m.\u001b[0m\u001b[0maxes\u001b[0m\u001b[0;34m.\u001b[0m\u001b[0mbbox\u001b[0m\u001b[0;34m,\u001b[0m\u001b[0;34m\u001b[0m\u001b[0;34m\u001b[0m\u001b[0m\n\u001b[0;32m--> 917\u001b[0;31m             magnification, unsampled=unsampled)\n\u001b[0m\u001b[1;32m    918\u001b[0m \u001b[0;34m\u001b[0m\u001b[0m\n\u001b[1;32m    919\u001b[0m     \u001b[0;32mdef\u001b[0m \u001b[0m_check_unsampled_image\u001b[0m\u001b[0;34m(\u001b[0m\u001b[0mself\u001b[0m\u001b[0;34m,\u001b[0m \u001b[0mrenderer\u001b[0m\u001b[0;34m)\u001b[0m\u001b[0;34m:\u001b[0m\u001b[0;34m\u001b[0m\u001b[0;34m\u001b[0m\u001b[0m\n",
            "\u001b[0;32m/usr/local/lib/python3.7/dist-packages/matplotlib/image.py\u001b[0m in \u001b[0;36m_make_image\u001b[0;34m(self, A, in_bbox, out_bbox, clip_bbox, magnification, unsampled, round_to_pixel_border)\u001b[0m\n\u001b[1;32m    522\u001b[0m                     self, A[..., 3], out_shape, t, alpha=alpha)\n\u001b[1;32m    523\u001b[0m                 output = _resample(  # resample rgb channels\n\u001b[0;32m--> 524\u001b[0;31m                     self, _rgb_to_rgba(A[..., :3]), out_shape, t, alpha=alpha)\n\u001b[0m\u001b[1;32m    525\u001b[0m                 \u001b[0moutput\u001b[0m\u001b[0;34m[\u001b[0m\u001b[0;34m...\u001b[0m\u001b[0;34m,\u001b[0m \u001b[0;36m3\u001b[0m\u001b[0;34m]\u001b[0m \u001b[0;34m=\u001b[0m \u001b[0moutput_alpha\u001b[0m  \u001b[0;31m# recombine rgb and alpha\u001b[0m\u001b[0;34m\u001b[0m\u001b[0;34m\u001b[0m\u001b[0m\n\u001b[1;32m    526\u001b[0m \u001b[0;34m\u001b[0m\u001b[0m\n",
            "\u001b[0;32m/usr/local/lib/python3.7/dist-packages/matplotlib/image.py\u001b[0m in \u001b[0;36m_resample\u001b[0;34m(image_obj, data, out_shape, transform, resample, alpha)\u001b[0m\n\u001b[1;32m    200\u001b[0m                     \u001b[0malpha\u001b[0m\u001b[0;34m,\u001b[0m\u001b[0;34m\u001b[0m\u001b[0;34m\u001b[0m\u001b[0m\n\u001b[1;32m    201\u001b[0m                     \u001b[0mimage_obj\u001b[0m\u001b[0;34m.\u001b[0m\u001b[0mget_filternorm\u001b[0m\u001b[0;34m(\u001b[0m\u001b[0;34m)\u001b[0m\u001b[0;34m,\u001b[0m\u001b[0;34m\u001b[0m\u001b[0;34m\u001b[0m\u001b[0m\n\u001b[0;32m--> 202\u001b[0;31m                     image_obj.get_filterrad())\n\u001b[0m\u001b[1;32m    203\u001b[0m     \u001b[0;32mreturn\u001b[0m \u001b[0mout\u001b[0m\u001b[0;34m\u001b[0m\u001b[0;34m\u001b[0m\u001b[0m\n\u001b[1;32m    204\u001b[0m \u001b[0;34m\u001b[0m\u001b[0m\n",
            "\u001b[0;31mKeyboardInterrupt\u001b[0m: "
          ]
        },
        {
          "output_type": "display_data",
          "data": {
            "image/png": "[encoded data removed]",
            "text/plain": [
              "<Figure size 432x288 with 1 Axes>"
            ]
          },
          "metadata": {
            "tags": [],
            "needs_background": "light"
          }
        }
      ]
    },
    {
      "cell_type": "code",
      "metadata": {
        "id": "RxkS0lpdW8jA"
      },
      "source": [
        "4 = lane keep \n",
        "3 straight\n",
        "1= left\n",
        "2 = right\n",
        "5= left lane\n",
        "6 = right lane"
      ],
      "execution_count": null,
      "outputs": []
    },
    {
      "cell_type": "code",
      "metadata": {
        "id": "s1cPngGE4hOZ",
        "colab": {
          "base_uri": "https://localhost:8080/"
        },
        "outputId": "c0a07375-5b98-4d2a-80da-8b5bf17b319b"
      },
      "source": [
        "comm_cnt={1.0:0,2.0:0,3.0:0,4.0:0,5.0:0,6.0:0}\n",
        "for f in os.listdir(\"/gdrive/My Drive/CARLA_challenge_autopilot\"):\n",
        "  if len(os.listdir(\"/gdrive/My Drive/CARLA_challenge_autopilot/\"+f))==0:\n",
        "    print(\"empty\",f)\n",
        "    continue\n",
        "  files =os.listdir(\"/gdrive/My Drive/CARLA_challenge_autopilot/\"+f+\"/measurements\")\n",
        "  m,n = get_max(files)\n",
        "  if n ==0:\n",
        "    print(\"empty\",f)\n",
        "    continue\n",
        "  for i in range(m+1):\n",
        "    name = get_string(i,n)\n",
        "    jf =\"/gdrive/My Drive/CARLA_challenge_autopilot/\"+f+\"/measurements/\"+name+\".json\"\n",
        "    with open(jf, 'r') as f2:\n",
        "      data = f2.read()\n",
        "    simdata = read_json_better(data)#[x 0 ,y 1 ,theta 2 ,speed 3 ,target_speed 4 ,x_command 5 ,y_command 6 ,command 7 ,steer 8 ,throttle 9 ,brake 10 ]\n",
        "    comm_cnt[simdata[7]]+=1\n",
        "  print(f,comm_cnt)  \n",
        "print(comm_cnt)    "
      ],
      "execution_count": null,
      "outputs": [
        {
          "output_type": "stream",
          "text": [
            "route_00_04_06_00_33_32 {1.0: 21, 2.0: 6, 3.0: 0, 4.0: 445, 5.0: 0, 6.0: 0}\n",
            "route_01_04_06_00_38_28 {1.0: 21, 2.0: 26, 3.0: 7, 4.0: 879, 5.0: 0, 6.0: 0}\n",
            "empty route_02_04_06_00_43_36\n",
            "route_03_04_06_00_48_16 {1.0: 44, 2.0: 52, 3.0: 32, 4.0: 1631, 5.0: 0, 6.0: 0}\n",
            "route_04_04_06_00_57_15 {1.0: 59, 2.0: 64, 3.0: 46, 4.0: 2053, 5.0: 0, 6.0: 0}\n",
            "route_05_04_06_01_02_59 {1.0: 90, 2.0: 81, 3.0: 53, 4.0: 2632, 5.0: 0, 6.0: 0}\n",
            "route_06_04_06_01_09_46 {1.0: 111, 2.0: 104, 3.0: 53, 4.0: 3130, 5.0: 0, 6.0: 0}\n",
            "route_08_04_06_01_21_41 {1.0: 111, 2.0: 125, 3.0: 61, 4.0: 3574, 5.0: 0, 6.0: 0}\n",
            "route_10_04_06_01_34_50 {1.0: 142, 2.0: 136, 3.0: 87, 4.0: 4423, 5.0: 54, 6.0: 0}\n",
            "route_13_04_06_02_12_16 {1.0: 176, 2.0: 151, 3.0: 265, 4.0: 5480, 5.0: 60, 6.0: 8}\n",
            "route_14_04_06_02_27_29 {1.0: 200, 2.0: 174, 3.0: 305, 4.0: 6033, 5.0: 63, 6.0: 8}\n",
            "route_30_04_06_06_59_30 {1.0: 200, 2.0: 174, 3.0: 423, 4.0: 6756, 5.0: 71, 6.0: 15}\n",
            "route_33_04_06_08_02_37 {1.0: 200, 2.0: 174, 3.0: 690, 4.0: 7655, 5.0: 74, 6.0: 19}\n",
            "route_34_04_06_08_18_08 {1.0: 205, 2.0: 191, 3.0: 803, 4.0: 8575, 5.0: 77, 6.0: 28}\n",
            "empty route_39_04_06_09_50_43\n",
            "route_40_04_06_10_00_43 {1.0: 253, 2.0: 208, 3.0: 813, 4.0: 9049, 5.0: 88, 6.0: 41}\n",
            "route_42_04_06_10_21_41 {1.0: 253, 2.0: 208, 3.0: 924, 4.0: 9821, 5.0: 104, 6.0: 63}\n",
            "route_43_04_06_10_33_21 {1.0: 253, 2.0: 227, 3.0: 958, 4.0: 10343, 5.0: 123, 6.0: 71}\n",
            "route_44_04_06_10_40_34 {1.0: 257, 2.0: 239, 3.0: 1027, 4.0: 11064, 5.0: 157, 6.0: 94}\n",
            "empty route_48_04_06_11_30_00\n",
            "route_49_04_06_11_43_48 {1.0: 257, 2.0: 239, 3.0: 1091, 4.0: 11509, 5.0: 168, 6.0: 105}\n",
            "route_50_04_06_11_50_14 {1.0: 257, 2.0: 242, 3.0: 1091, 4.0: 12087, 5.0: 168, 6.0: 105}\n",
            "route_51_04_06_11_58_20 {1.0: 257, 2.0: 261, 3.0: 1100, 4.0: 12904, 5.0: 168, 6.0: 105}\n",
            "route_52_04_06_12_08_06 {1.0: 272, 2.0: 265, 3.0: 1104, 4.0: 13628, 5.0: 168, 6.0: 105}\n",
            "route_54_04_06_12_27_40 {1.0: 336, 2.0: 282, 3.0: 1104, 4.0: 14262, 5.0: 168, 6.0: 105}\n",
            "route_56_04_06_12_46_43 {1.0: 336, 2.0: 282, 3.0: 1240, 4.0: 14991, 5.0: 176, 6.0: 113}\n",
            "route_58_04_06_13_10_46 {1.0: 364, 2.0: 290, 3.0: 1317, 4.0: 15992, 5.0: 178, 6.0: 117}\n",
            "route_59_04_06_13_26_15 {1.0: 364, 2.0: 290, 3.0: 1572, 4.0: 16892, 5.0: 180, 6.0: 120}\n",
            "route_61_04_06_13_54_28 {1.0: 393, 2.0: 294, 3.0: 1784, 4.0: 17805, 5.0: 180, 6.0: 120}\n",
            "empty route_67_04_06_15_08_35\n",
            "route_72_04_06_15_37_18 {1.0: 421, 2.0: 310, 3.0: 1814, 4.0: 18240, 5.0: 189, 6.0: 200}\n",
            "route_07_04_07_22_31_01 {1.0: 421, 2.0: 317, 3.0: 1831, 4.0: 18647, 5.0: 189, 6.0: 200}\n",
            "route_09_04_07_23_07_09 {1.0: 431, 2.0: 331, 3.0: 1846, 4.0: 19149, 5.0: 189, 6.0: 200}\n",
            "route_75_04_08_13_13_03 {1.0: 474, 2.0: 349, 3.0: 1926, 4.0: 20082, 5.0: 202, 6.0: 248}\n",
            "route_11_04_08_13_52_45 {1.0: 485, 2.0: 359, 3.0: 1982, 4.0: 20524, 5.0: 205, 6.0: 263}\n",
            "route_74_04_08_14_12_57 {1.0: 505, 2.0: 554, 3.0: 2117, 4.0: 21605, 5.0: 230, 6.0: 366}\n",
            "route_73_04_08_14_33_42 {1.0: 527, 2.0: 579, 3.0: 2228, 4.0: 22497, 5.0: 237, 6.0: 384}\n",
            "route_71_04_08_14_50_05 {1.0: 527, 2.0: 589, 3.0: 2413, 4.0: 22755, 5.0: 239, 6.0: 384}\n",
            "route_15_04_08_15_53_22 {1.0: 538, 2.0: 616, 3.0: 2502, 4.0: 23657, 5.0: 245, 6.0: 389}\n",
            "route_16_04_08_16_05_14 {1.0: 571, 2.0: 645, 3.0: 2603, 4.0: 24658, 5.0: 247, 6.0: 394}\n",
            "route_19_04_08_16_31_51 {1.0: 597, 2.0: 651, 3.0: 2617, 4.0: 25100, 5.0: 247, 6.0: 394}\n",
            "route_20_04_08_16_37_51 {1.0: 597, 2.0: 656, 3.0: 2664, 4.0: 25636, 5.0: 247, 6.0: 394}\n",
            "route_22_04_08_17_22_59 {1.0: 612, 2.0: 668, 3.0: 2706, 4.0: 26347, 5.0: 247, 6.0: 394}\n",
            "route_24_04_08_17_39_17 {1.0: 639, 2.0: 668, 3.0: 2752, 4.0: 26573, 5.0: 247, 6.0: 397}\n",
            "route_25_04_08_17_42_59 {1.0: 654, 2.0: 677, 3.0: 2811, 4.0: 27058, 5.0: 247, 6.0: 398}\n",
            "empty route_28_04_08_18_21_14\n",
            "route_31_04_08_19_10_16 {1.0: 659, 2.0: 690, 3.0: 2903, 4.0: 28132, 5.0: 247, 6.0: 398}\n",
            "route_32_04_08_19_26_38 {1.0: 769, 2.0: 698, 3.0: 2975, 4.0: 29042, 5.0: 250, 6.0: 402}\n",
            "route_35_04_08_19_42_06 {1.0: 797, 2.0: 703, 3.0: 3121, 4.0: 30116, 5.0: 250, 6.0: 402}\n",
            "route_36_04_08_20_00_21 {1.0: 824, 2.0: 725, 3.0: 3196, 4.0: 31588, 5.0: 252, 6.0: 402}\n",
            "route_37_04_08_20_25_33 {1.0: 837, 2.0: 738, 3.0: 3364, 4.0: 32627, 5.0: 255, 6.0: 404}\n",
            "route_38_04_08_20_44_24 {1.0: 858, 2.0: 755, 3.0: 3445, 4.0: 33867, 5.0: 258, 6.0: 406}\n",
            "route_41_04_08_21_06_10 {1.0: 864, 2.0: 779, 3.0: 3513, 4.0: 34583, 5.0: 273, 6.0: 427}\n",
            "route_45_04_08_21_17_39 {1.0: 973, 2.0: 814, 3.0: 3585, 4.0: 35087, 5.0: 319, 6.0: 440}\n",
            "route_46_04_08_21_27_56 {1.0: 1029, 2.0: 824, 3.0: 3697, 4.0: 36400, 5.0: 346, 6.0: 461}\n",
            "route_47_04_08_21_48_09 {1.0: 1030, 2.0: 846, 3.0: 3773, 4.0: 37430, 5.0: 370, 6.0: 508}\n",
            "route_53_04_08_22_03_01 {1.0: 1042, 2.0: 850, 3.0: 3786, 4.0: 38214, 5.0: 370, 6.0: 508}\n",
            "empty route_55_04_08_22_12_04\n",
            "route_57_04_08_22_20_30 {1.0: 1048, 2.0: 861, 3.0: 3889, 4.0: 39491, 5.0: 370, 6.0: 508}\n",
            "route_60_04_08_22_39_20 {1.0: 1053, 2.0: 877, 3.0: 3990, 4.0: 40313, 5.0: 372, 6.0: 517}\n",
            "route_62_04_08_22_52_34 {1.0: 1081, 2.0: 902, 3.0: 4074, 4.0: 41818, 5.0: 374, 6.0: 517}\n",
            "route_63_04_08_23_17_48 {1.0: 1089, 2.0: 912, 3.0: 4235, 4.0: 42878, 5.0: 377, 6.0: 519}\n",
            "route_64_04_08_23_35_55 {1.0: 1110, 2.0: 931, 3.0: 4393, 4.0: 43921, 5.0: 379, 6.0: 522}\n",
            "route_65_04_08_23_55_44 {1.0: 1110, 2.0: 934, 3.0: 4473, 4.0: 44594, 5.0: 379, 6.0: 522}\n",
            "route_66_04_09_00_05_08 {1.0: 1123, 2.0: 957, 3.0: 4529, 4.0: 45387, 5.0: 385, 6.0: 529}\n",
            "route_68_04_09_00_17_00 {1.0: 1144, 2.0: 980, 3.0: 4572, 4.0: 46002, 5.0: 397, 6.0: 668}\n",
            "route_69_04_09_00_28_07 {1.0: 1154, 2.0: 980, 3.0: 4590, 4.0: 46876, 5.0: 403, 6.0: 675}\n",
            "route_70_04_09_00_38_16 {1.0: 1187, 2.0: 1063, 3.0: 4606, 4.0: 47350, 5.0: 413, 6.0: 797}\n",
            "route_12_04_09_10_05_34 {1.0: 1204, 2.0: 1091, 3.0: 4704, 4.0: 48343, 5.0: 414, 6.0: 799}\n",
            "route_17_04_09_10_18_43 {1.0: 1220, 2.0: 1099, 3.0: 4809, 4.0: 49399, 5.0: 414, 6.0: 799}\n",
            "route_26_04_09_11_32_35 {1.0: 1246, 2.0: 1116, 3.0: 4905, 4.0: 50531, 5.0: 414, 6.0: 799}\n",
            "route_29_04_09_11_47_17 {1.0: 1356, 2.0: 1152, 3.0: 5074, 4.0: 52414, 5.0: 442, 6.0: 803}\n"
          ],
          "name": "stdout"
        }
      ]
    },
    {
      "cell_type": "code",
      "metadata": {
        "id": "HElu2ev-cscm"
      },
      "source": [
        "print(comm_cnt)"
      ],
      "execution_count": null,
      "outputs": []
    }
  ]
}